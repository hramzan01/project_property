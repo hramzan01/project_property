{
 "cells": [
  {
   "cell_type": "markdown",
   "metadata": {},
   "source": [
    "# Testing area error"
   ]
  },
  {
   "cell_type": "code",
   "execution_count": 7,
   "metadata": {},
   "outputs": [],
   "source": [
    "import requests\n",
    "from bs4 import BeautifulSoup\n",
    "\n",
    "headers = {\n",
    "    \"User-Agent\": \"Mozilla/5.0 (Windows NT 10.0; Win64; x64) AppleWebKit/537.36 (KHTML, like Gecko) Chrome/89.0.4389.114 Safari/537.36\"\n",
    "}\n"
   ]
  },
  {
   "cell_type": "code",
   "execution_count": 33,
   "metadata": {},
   "outputs": [],
   "source": [
    "url_1 = 'https://www.rightmove.co.uk/properties/147576875#/?channel=RES_BUY'\n",
    "url_2 = 'https://www.rightmove.co.uk/properties/147576131#/?channel=RES_BUY'\n",
    "response = requests.get(url_2, headers=headers)\n",
    "\n",
    "soup = BeautifulSoup(response.text, 'html.parser')"
   ]
  },
  {
   "cell_type": "code",
   "execution_count": 34,
   "metadata": {},
   "outputs": [
    {
     "data": {
      "text/plain": [
       "['Flat', '2', '1', '0 sq ft 0 sq m', 'Leasehold']"
      ]
     },
     "execution_count": 34,
     "metadata": {},
     "output_type": "execute_result"
    }
   ],
   "source": [
    "property_card = soup.find_all('dd', class_='_3ZGPwl2N1mHAJH3cbltyWn')\n",
    "info = [i.text.strip() for i in property_card]\n",
    "\n",
    "if info[3] == 'Ask agent':\n",
    "    info[3] = '0 sq ft 0 sq m'\n",
    "else:\n",
    "    info[3] = info[3].replace(' sq m', '').replace('sq ft', '').replace(',', '').split()\n",
    "\n",
    "info[3]\n",
    "info\n",
    "# append the data to the lists\n",
    "# sq_ft.append(info[3][0])\n",
    "# sq_m.append(info[3][1])\n"
   ]
  }
 ],
 "metadata": {
  "kernelspec": {
   "display_name": "lewagon",
   "language": "python",
   "name": "python3"
  },
  "language_info": {
   "codemirror_mode": {
    "name": "ipython",
    "version": 3
   },
   "file_extension": ".py",
   "mimetype": "text/x-python",
   "name": "python",
   "nbconvert_exporter": "python",
   "pygments_lexer": "ipython3",
   "version": "3.10.6"
  }
 },
 "nbformat": 4,
 "nbformat_minor": 2
}
