{
 "cells": [
  {
   "cell_type": "code",
   "execution_count": 2,
   "metadata": {},
   "outputs": [],
   "source": [
    "import pandas as pd \n",
    "import plotly.express as px\n",
    "import requests\n",
    "# Set the default theme to plotly_dark\n",
    "import plotly.io as pio\n",
    "pio.templates.default = \"plotly_dark\"\n",
    "import folium\n",
    "from folium.plugins import MarkerCluster\n",
    "\n",
    "import warnings\n",
    "warnings.simplefilter('ignore')"
   ]
  },
  {
   "cell_type": "markdown",
   "metadata": {},
   "source": [
    "# Map Locations to Map"
   ]
  },
  {
   "cell_type": "code",
   "execution_count": 17,
   "metadata": {},
   "outputs": [
    {
     "data": {
      "text/plain": [
       "0    https://www.zoopla.co.uk/for-sale/details/6678...\n",
       "1    https://www.zoopla.co.uk/for-sale/details/6682...\n",
       "2    https://www.rightmove.co.uk/properties/8644644...\n",
       "3    https://www.rightmove.co.uk/properties/1459670...\n",
       "4    https://www.rightmove.co.uk/properties/1457131...\n",
       "5    https://www.dexters.co.uk/property-for-sale/fl...\n",
       "6    https://www.winkworth.co.uk/properties/sales/r...\n",
       "7    https://www.winkworth.co.uk/properties/sales/m...\n",
       "Name: URL, dtype: object"
      ]
     },
     "execution_count": 17,
     "metadata": {},
     "output_type": "execute_result"
    }
   ],
   "source": [
    "df = pd.read_csv('data/raw_data/property_search.csv')\n",
    "img_list = [\n",
    "    \n",
    "]\n",
    "# df['img'] = img_list\n",
    "df.URL"
   ]
  },
  {
   "cell_type": "code",
   "execution_count": 4,
   "metadata": {},
   "outputs": [],
   "source": [
    "base_url = 'https://api.postcodes.io/postcodes'\n",
    "params = {\n",
    "  \"postcodes\" : list(df.location.unique())\n",
    "}\n",
    "\n",
    "# Make a GET request to the API\n",
    "response = requests.post(base_url, json=params).json()\n",
    "\n",
    "lat_list = []\n",
    "lon_list = []\n",
    "\n",
    "for index, postcode in enumerate(df.location.unique()):\n",
    "    lon_list.append(response['result'][index]['result']['longitude'])\n",
    "    lat_list.append(response['result'][index]['result']['latitude'])"
   ]
  },
  {
   "cell_type": "code",
   "execution_count": 5,
   "metadata": {},
   "outputs": [
    {
     "data": {
      "text/html": [
       "<div>\n",
       "<style scoped>\n",
       "    .dataframe tbody tr th:only-of-type {\n",
       "        vertical-align: middle;\n",
       "    }\n",
       "\n",
       "    .dataframe tbody tr th {\n",
       "        vertical-align: top;\n",
       "    }\n",
       "\n",
       "    .dataframe thead th {\n",
       "        text-align: right;\n",
       "    }\n",
       "</style>\n",
       "<table border=\"1\" class=\"dataframe\">\n",
       "  <thead>\n",
       "    <tr style=\"text-align: right;\">\n",
       "      <th></th>\n",
       "      <th>name</th>\n",
       "      <th>beds</th>\n",
       "      <th>wc</th>\n",
       "      <th>garden</th>\n",
       "      <th>price</th>\n",
       "      <th>area_sft</th>\n",
       "      <th>location</th>\n",
       "      <th>leasehold</th>\n",
       "      <th>ctax_band</th>\n",
       "      <th>service_charge</th>\n",
       "      <th>agency</th>\n",
       "      <th>URL</th>\n",
       "      <th>reno_cost</th>\n",
       "      <th>yearly_rev</th>\n",
       "      <th>lat</th>\n",
       "      <th>lon</th>\n",
       "    </tr>\n",
       "  </thead>\n",
       "  <tbody>\n",
       "    <tr>\n",
       "      <th>0</th>\n",
       "      <td>Purbrook Estate</td>\n",
       "      <td>3</td>\n",
       "      <td>1</td>\n",
       "      <td>0</td>\n",
       "      <td>475000</td>\n",
       "      <td>750</td>\n",
       "      <td>SE1 3DE</td>\n",
       "      <td>0</td>\n",
       "      <td>-</td>\n",
       "      <td>-</td>\n",
       "      <td>waterview</td>\n",
       "      <td>https://www.zoopla.co.uk/for-sale/details/6678...</td>\n",
       "      <td>25000</td>\n",
       "      <td>75700</td>\n",
       "      <td>51.498920</td>\n",
       "      <td>-0.077847</td>\n",
       "    </tr>\n",
       "    <tr>\n",
       "      <th>1</th>\n",
       "      <td>Congreve Street</td>\n",
       "      <td>3</td>\n",
       "      <td>2</td>\n",
       "      <td>1</td>\n",
       "      <td>525000</td>\n",
       "      <td>897</td>\n",
       "      <td>SE17 1TG</td>\n",
       "      <td>85</td>\n",
       "      <td>c</td>\n",
       "      <td>-</td>\n",
       "      <td>foxtons</td>\n",
       "      <td>https://www.zoopla.co.uk/for-sale/details/6682...</td>\n",
       "      <td>20000</td>\n",
       "      <td>59600</td>\n",
       "      <td>51.491655</td>\n",
       "      <td>-0.085024</td>\n",
       "    </tr>\n",
       "    <tr>\n",
       "      <th>2</th>\n",
       "      <td>Baltic Place</td>\n",
       "      <td>2</td>\n",
       "      <td>1</td>\n",
       "      <td>0</td>\n",
       "      <td>550000</td>\n",
       "      <td>833</td>\n",
       "      <td>N1 5AQ</td>\n",
       "      <td>112</td>\n",
       "      <td>d</td>\n",
       "      <td>3000</td>\n",
       "      <td>stirling ackroyd</td>\n",
       "      <td>https://www.rightmove.co.uk/properties/8644644...</td>\n",
       "      <td>5000</td>\n",
       "      <td>52800</td>\n",
       "      <td>51.536710</td>\n",
       "      <td>-0.077481</td>\n",
       "    </tr>\n",
       "    <tr>\n",
       "      <th>3</th>\n",
       "      <td>Sutherland Avenue</td>\n",
       "      <td>2</td>\n",
       "      <td>1</td>\n",
       "      <td>1</td>\n",
       "      <td>550000</td>\n",
       "      <td>565</td>\n",
       "      <td>W9 2JD</td>\n",
       "      <td>0</td>\n",
       "      <td>-</td>\n",
       "      <td>-</td>\n",
       "      <td>dexters</td>\n",
       "      <td>https://www.rightmove.co.uk/properties/1459670...</td>\n",
       "      <td>10000</td>\n",
       "      <td>64400</td>\n",
       "      <td>51.524157</td>\n",
       "      <td>-0.188245</td>\n",
       "    </tr>\n",
       "    <tr>\n",
       "      <th>4</th>\n",
       "      <td>Lancaster West</td>\n",
       "      <td>2</td>\n",
       "      <td>2</td>\n",
       "      <td>0</td>\n",
       "      <td>500000</td>\n",
       "      <td>668</td>\n",
       "      <td>W11 4AT</td>\n",
       "      <td>90</td>\n",
       "      <td>-</td>\n",
       "      <td>2200</td>\n",
       "      <td>winkworth</td>\n",
       "      <td>https://www.rightmove.co.uk/properties/1457131...</td>\n",
       "      <td>8000</td>\n",
       "      <td>69600</td>\n",
       "      <td>51.512468</td>\n",
       "      <td>-0.215889</td>\n",
       "    </tr>\n",
       "  </tbody>\n",
       "</table>\n",
       "</div>"
      ],
      "text/plain": [
       "                name  beds  wc  garden   price  area_sft  location leasehold  \\\n",
       "0    Purbrook Estate     3   1       0  475000       750   SE1 3DE         0   \n",
       "1    Congreve Street     3   2       1  525000       897  SE17 1TG        85   \n",
       "2       Baltic Place     2   1       0  550000       833    N1 5AQ       112   \n",
       "3  Sutherland Avenue     2   1       1  550000       565    W9 2JD         0   \n",
       "4     Lancaster West     2   2       0  500000       668   W11 4AT        90   \n",
       "\n",
       "  ctax_band service_charge            agency  \\\n",
       "0         -              -         waterview   \n",
       "1         c              -           foxtons   \n",
       "2         d           3000  stirling ackroyd   \n",
       "3         -              -           dexters   \n",
       "4         -           2200         winkworth   \n",
       "\n",
       "                                                 URL  reno_cost  yearly_rev  \\\n",
       "0  https://www.zoopla.co.uk/for-sale/details/6678...      25000       75700   \n",
       "1  https://www.zoopla.co.uk/for-sale/details/6682...      20000       59600   \n",
       "2  https://www.rightmove.co.uk/properties/8644644...       5000       52800   \n",
       "3  https://www.rightmove.co.uk/properties/1459670...      10000       64400   \n",
       "4  https://www.rightmove.co.uk/properties/1457131...       8000       69600   \n",
       "\n",
       "         lat       lon  \n",
       "0  51.498920 -0.077847  \n",
       "1  51.491655 -0.085024  \n",
       "2  51.536710 -0.077481  \n",
       "3  51.524157 -0.188245  \n",
       "4  51.512468 -0.215889  "
      ]
     },
     "execution_count": 5,
     "metadata": {},
     "output_type": "execute_result"
    }
   ],
   "source": [
    "df['lat'] = lat_list\n",
    "df['lon'] = lon_list\n",
    "# df.to_csv('data/processed_data/processed_property_search.csv',index=False)\n",
    "df.head()"
   ]
  },
  {
   "cell_type": "code",
   "execution_count": 6,
   "metadata": {},
   "outputs": [
    {
     "data": {
      "application/vnd.plotly.v1+json": {
       "config": {
        "plotlyServerURL": "https://plot.ly"
       },
       "data": [
        {
         "customdata": [
          [
           "Purbrook Estate",
           51.49892,
           -0.077847,
           3,
           1,
           0,
           750,
           475000,
           "waterview",
           25000,
           75700
          ],
          [
           "Congreve Street",
           51.491655,
           -0.085024,
           3,
           2,
           1,
           897,
           525000,
           "foxtons",
           20000,
           59600
          ],
          [
           "Baltic Place",
           51.53671,
           -0.077481,
           2,
           1,
           0,
           833,
           550000,
           "stirling ackroyd",
           5000,
           52800
          ],
          [
           "Sutherland Avenue",
           51.524157,
           -0.188245,
           2,
           1,
           1,
           565,
           550000,
           "dexters",
           10000,
           64400
          ],
          [
           "Lancaster West",
           51.512468,
           -0.215889,
           2,
           2,
           0,
           668,
           500000,
           "winkworth",
           8000,
           69600
          ],
          [
           "London Terrace Hoxton",
           51.530816,
           -0.069007,
           2,
           1,
           0,
           610,
           480000,
           "dexters",
           10000,
           54700
          ],
          [
           "Royal Oak Court",
           51.52832,
           -0.082419,
           2,
           1,
           1,
           670,
           550000,
           "winkworth",
           10000,
           67600
          ],
          [
           "Maygood Street",
           51.534229,
           -0.111311,
           2,
           1,
           0,
           506,
           450000,
           "winkworth",
           25000,
           69900
          ]
         ],
         "hovertemplate": "name=%{customdata[0]}<br>beds=%{customdata[3]}<br>wc=%{customdata[4]}<br>garden=%{customdata[5]}<br>area_sft=%{customdata[6]}<br>price=%{customdata[7]}<br>agency=%{customdata[8]}<br>reno_cost=%{customdata[9]}<br>yearly_rev=%{customdata[10]}<extra></extra>",
         "lat": [
          51.49892,
          51.491655,
          51.53671,
          51.524157,
          51.512468,
          51.530816,
          51.52832,
          51.534229
         ],
         "legendgroup": "",
         "lon": [
          -0.077847,
          -0.085024,
          -0.077481,
          -0.188245,
          -0.215889,
          -0.069007,
          -0.082419,
          -0.111311
         ],
         "marker": {
          "color": "#636efa",
          "size": 12
         },
         "mode": "markers",
         "name": "",
         "showlegend": false,
         "subplot": "mapbox",
         "type": "scattermapbox"
        }
       ],
       "layout": {
        "legend": {
         "tracegroupgap": 0
        },
        "mapbox": {
         "center": {
          "lat": 51.519659375,
          "lon": -0.113402875
         },
         "domain": {
          "x": [
           0,
           1
          ],
          "y": [
           0,
           1
          ]
         },
         "style": "carto-positron",
         "zoom": 11.5
        },
        "margin": {
         "b": 0,
         "l": 0,
         "r": 0,
         "t": 40
        },
        "template": {
         "data": {
          "bar": [
           {
            "error_x": {
             "color": "#f2f5fa"
            },
            "error_y": {
             "color": "#f2f5fa"
            },
            "marker": {
             "line": {
              "color": "rgb(17,17,17)",
              "width": 0.5
             },
             "pattern": {
              "fillmode": "overlay",
              "size": 10,
              "solidity": 0.2
             }
            },
            "type": "bar"
           }
          ],
          "barpolar": [
           {
            "marker": {
             "line": {
              "color": "rgb(17,17,17)",
              "width": 0.5
             },
             "pattern": {
              "fillmode": "overlay",
              "size": 10,
              "solidity": 0.2
             }
            },
            "type": "barpolar"
           }
          ],
          "carpet": [
           {
            "aaxis": {
             "endlinecolor": "#A2B1C6",
             "gridcolor": "#506784",
             "linecolor": "#506784",
             "minorgridcolor": "#506784",
             "startlinecolor": "#A2B1C6"
            },
            "baxis": {
             "endlinecolor": "#A2B1C6",
             "gridcolor": "#506784",
             "linecolor": "#506784",
             "minorgridcolor": "#506784",
             "startlinecolor": "#A2B1C6"
            },
            "type": "carpet"
           }
          ],
          "choropleth": [
           {
            "colorbar": {
             "outlinewidth": 0,
             "ticks": ""
            },
            "type": "choropleth"
           }
          ],
          "contour": [
           {
            "colorbar": {
             "outlinewidth": 0,
             "ticks": ""
            },
            "colorscale": [
             [
              0,
              "#0d0887"
             ],
             [
              0.1111111111111111,
              "#46039f"
             ],
             [
              0.2222222222222222,
              "#7201a8"
             ],
             [
              0.3333333333333333,
              "#9c179e"
             ],
             [
              0.4444444444444444,
              "#bd3786"
             ],
             [
              0.5555555555555556,
              "#d8576b"
             ],
             [
              0.6666666666666666,
              "#ed7953"
             ],
             [
              0.7777777777777778,
              "#fb9f3a"
             ],
             [
              0.8888888888888888,
              "#fdca26"
             ],
             [
              1,
              "#f0f921"
             ]
            ],
            "type": "contour"
           }
          ],
          "contourcarpet": [
           {
            "colorbar": {
             "outlinewidth": 0,
             "ticks": ""
            },
            "type": "contourcarpet"
           }
          ],
          "heatmap": [
           {
            "colorbar": {
             "outlinewidth": 0,
             "ticks": ""
            },
            "colorscale": [
             [
              0,
              "#0d0887"
             ],
             [
              0.1111111111111111,
              "#46039f"
             ],
             [
              0.2222222222222222,
              "#7201a8"
             ],
             [
              0.3333333333333333,
              "#9c179e"
             ],
             [
              0.4444444444444444,
              "#bd3786"
             ],
             [
              0.5555555555555556,
              "#d8576b"
             ],
             [
              0.6666666666666666,
              "#ed7953"
             ],
             [
              0.7777777777777778,
              "#fb9f3a"
             ],
             [
              0.8888888888888888,
              "#fdca26"
             ],
             [
              1,
              "#f0f921"
             ]
            ],
            "type": "heatmap"
           }
          ],
          "heatmapgl": [
           {
            "colorbar": {
             "outlinewidth": 0,
             "ticks": ""
            },
            "colorscale": [
             [
              0,
              "#0d0887"
             ],
             [
              0.1111111111111111,
              "#46039f"
             ],
             [
              0.2222222222222222,
              "#7201a8"
             ],
             [
              0.3333333333333333,
              "#9c179e"
             ],
             [
              0.4444444444444444,
              "#bd3786"
             ],
             [
              0.5555555555555556,
              "#d8576b"
             ],
             [
              0.6666666666666666,
              "#ed7953"
             ],
             [
              0.7777777777777778,
              "#fb9f3a"
             ],
             [
              0.8888888888888888,
              "#fdca26"
             ],
             [
              1,
              "#f0f921"
             ]
            ],
            "type": "heatmapgl"
           }
          ],
          "histogram": [
           {
            "marker": {
             "pattern": {
              "fillmode": "overlay",
              "size": 10,
              "solidity": 0.2
             }
            },
            "type": "histogram"
           }
          ],
          "histogram2d": [
           {
            "colorbar": {
             "outlinewidth": 0,
             "ticks": ""
            },
            "colorscale": [
             [
              0,
              "#0d0887"
             ],
             [
              0.1111111111111111,
              "#46039f"
             ],
             [
              0.2222222222222222,
              "#7201a8"
             ],
             [
              0.3333333333333333,
              "#9c179e"
             ],
             [
              0.4444444444444444,
              "#bd3786"
             ],
             [
              0.5555555555555556,
              "#d8576b"
             ],
             [
              0.6666666666666666,
              "#ed7953"
             ],
             [
              0.7777777777777778,
              "#fb9f3a"
             ],
             [
              0.8888888888888888,
              "#fdca26"
             ],
             [
              1,
              "#f0f921"
             ]
            ],
            "type": "histogram2d"
           }
          ],
          "histogram2dcontour": [
           {
            "colorbar": {
             "outlinewidth": 0,
             "ticks": ""
            },
            "colorscale": [
             [
              0,
              "#0d0887"
             ],
             [
              0.1111111111111111,
              "#46039f"
             ],
             [
              0.2222222222222222,
              "#7201a8"
             ],
             [
              0.3333333333333333,
              "#9c179e"
             ],
             [
              0.4444444444444444,
              "#bd3786"
             ],
             [
              0.5555555555555556,
              "#d8576b"
             ],
             [
              0.6666666666666666,
              "#ed7953"
             ],
             [
              0.7777777777777778,
              "#fb9f3a"
             ],
             [
              0.8888888888888888,
              "#fdca26"
             ],
             [
              1,
              "#f0f921"
             ]
            ],
            "type": "histogram2dcontour"
           }
          ],
          "mesh3d": [
           {
            "colorbar": {
             "outlinewidth": 0,
             "ticks": ""
            },
            "type": "mesh3d"
           }
          ],
          "parcoords": [
           {
            "line": {
             "colorbar": {
              "outlinewidth": 0,
              "ticks": ""
             }
            },
            "type": "parcoords"
           }
          ],
          "pie": [
           {
            "automargin": true,
            "type": "pie"
           }
          ],
          "scatter": [
           {
            "marker": {
             "line": {
              "color": "#283442"
             }
            },
            "type": "scatter"
           }
          ],
          "scatter3d": [
           {
            "line": {
             "colorbar": {
              "outlinewidth": 0,
              "ticks": ""
             }
            },
            "marker": {
             "colorbar": {
              "outlinewidth": 0,
              "ticks": ""
             }
            },
            "type": "scatter3d"
           }
          ],
          "scattercarpet": [
           {
            "marker": {
             "colorbar": {
              "outlinewidth": 0,
              "ticks": ""
             }
            },
            "type": "scattercarpet"
           }
          ],
          "scattergeo": [
           {
            "marker": {
             "colorbar": {
              "outlinewidth": 0,
              "ticks": ""
             }
            },
            "type": "scattergeo"
           }
          ],
          "scattergl": [
           {
            "marker": {
             "line": {
              "color": "#283442"
             }
            },
            "type": "scattergl"
           }
          ],
          "scattermapbox": [
           {
            "marker": {
             "colorbar": {
              "outlinewidth": 0,
              "ticks": ""
             }
            },
            "type": "scattermapbox"
           }
          ],
          "scatterpolar": [
           {
            "marker": {
             "colorbar": {
              "outlinewidth": 0,
              "ticks": ""
             }
            },
            "type": "scatterpolar"
           }
          ],
          "scatterpolargl": [
           {
            "marker": {
             "colorbar": {
              "outlinewidth": 0,
              "ticks": ""
             }
            },
            "type": "scatterpolargl"
           }
          ],
          "scatterternary": [
           {
            "marker": {
             "colorbar": {
              "outlinewidth": 0,
              "ticks": ""
             }
            },
            "type": "scatterternary"
           }
          ],
          "surface": [
           {
            "colorbar": {
             "outlinewidth": 0,
             "ticks": ""
            },
            "colorscale": [
             [
              0,
              "#0d0887"
             ],
             [
              0.1111111111111111,
              "#46039f"
             ],
             [
              0.2222222222222222,
              "#7201a8"
             ],
             [
              0.3333333333333333,
              "#9c179e"
             ],
             [
              0.4444444444444444,
              "#bd3786"
             ],
             [
              0.5555555555555556,
              "#d8576b"
             ],
             [
              0.6666666666666666,
              "#ed7953"
             ],
             [
              0.7777777777777778,
              "#fb9f3a"
             ],
             [
              0.8888888888888888,
              "#fdca26"
             ],
             [
              1,
              "#f0f921"
             ]
            ],
            "type": "surface"
           }
          ],
          "table": [
           {
            "cells": {
             "fill": {
              "color": "#506784"
             },
             "line": {
              "color": "rgb(17,17,17)"
             }
            },
            "header": {
             "fill": {
              "color": "#2a3f5f"
             },
             "line": {
              "color": "rgb(17,17,17)"
             }
            },
            "type": "table"
           }
          ]
         },
         "layout": {
          "annotationdefaults": {
           "arrowcolor": "#f2f5fa",
           "arrowhead": 0,
           "arrowwidth": 1
          },
          "autotypenumbers": "strict",
          "coloraxis": {
           "colorbar": {
            "outlinewidth": 0,
            "ticks": ""
           }
          },
          "colorscale": {
           "diverging": [
            [
             0,
             "#8e0152"
            ],
            [
             0.1,
             "#c51b7d"
            ],
            [
             0.2,
             "#de77ae"
            ],
            [
             0.3,
             "#f1b6da"
            ],
            [
             0.4,
             "#fde0ef"
            ],
            [
             0.5,
             "#f7f7f7"
            ],
            [
             0.6,
             "#e6f5d0"
            ],
            [
             0.7,
             "#b8e186"
            ],
            [
             0.8,
             "#7fbc41"
            ],
            [
             0.9,
             "#4d9221"
            ],
            [
             1,
             "#276419"
            ]
           ],
           "sequential": [
            [
             0,
             "#0d0887"
            ],
            [
             0.1111111111111111,
             "#46039f"
            ],
            [
             0.2222222222222222,
             "#7201a8"
            ],
            [
             0.3333333333333333,
             "#9c179e"
            ],
            [
             0.4444444444444444,
             "#bd3786"
            ],
            [
             0.5555555555555556,
             "#d8576b"
            ],
            [
             0.6666666666666666,
             "#ed7953"
            ],
            [
             0.7777777777777778,
             "#fb9f3a"
            ],
            [
             0.8888888888888888,
             "#fdca26"
            ],
            [
             1,
             "#f0f921"
            ]
           ],
           "sequentialminus": [
            [
             0,
             "#0d0887"
            ],
            [
             0.1111111111111111,
             "#46039f"
            ],
            [
             0.2222222222222222,
             "#7201a8"
            ],
            [
             0.3333333333333333,
             "#9c179e"
            ],
            [
             0.4444444444444444,
             "#bd3786"
            ],
            [
             0.5555555555555556,
             "#d8576b"
            ],
            [
             0.6666666666666666,
             "#ed7953"
            ],
            [
             0.7777777777777778,
             "#fb9f3a"
            ],
            [
             0.8888888888888888,
             "#fdca26"
            ],
            [
             1,
             "#f0f921"
            ]
           ]
          },
          "colorway": [
           "#636efa",
           "#EF553B",
           "#00cc96",
           "#ab63fa",
           "#FFA15A",
           "#19d3f3",
           "#FF6692",
           "#B6E880",
           "#FF97FF",
           "#FECB52"
          ],
          "font": {
           "color": "#f2f5fa"
          },
          "geo": {
           "bgcolor": "rgb(17,17,17)",
           "lakecolor": "rgb(17,17,17)",
           "landcolor": "rgb(17,17,17)",
           "showlakes": true,
           "showland": true,
           "subunitcolor": "#506784"
          },
          "hoverlabel": {
           "align": "left"
          },
          "hovermode": "closest",
          "mapbox": {
           "style": "dark"
          },
          "paper_bgcolor": "rgb(17,17,17)",
          "plot_bgcolor": "rgb(17,17,17)",
          "polar": {
           "angularaxis": {
            "gridcolor": "#506784",
            "linecolor": "#506784",
            "ticks": ""
           },
           "bgcolor": "rgb(17,17,17)",
           "radialaxis": {
            "gridcolor": "#506784",
            "linecolor": "#506784",
            "ticks": ""
           }
          },
          "scene": {
           "xaxis": {
            "backgroundcolor": "rgb(17,17,17)",
            "gridcolor": "#506784",
            "gridwidth": 2,
            "linecolor": "#506784",
            "showbackground": true,
            "ticks": "",
            "zerolinecolor": "#C8D4E3"
           },
           "yaxis": {
            "backgroundcolor": "rgb(17,17,17)",
            "gridcolor": "#506784",
            "gridwidth": 2,
            "linecolor": "#506784",
            "showbackground": true,
            "ticks": "",
            "zerolinecolor": "#C8D4E3"
           },
           "zaxis": {
            "backgroundcolor": "rgb(17,17,17)",
            "gridcolor": "#506784",
            "gridwidth": 2,
            "linecolor": "#506784",
            "showbackground": true,
            "ticks": "",
            "zerolinecolor": "#C8D4E3"
           }
          },
          "shapedefaults": {
           "line": {
            "color": "#f2f5fa"
           }
          },
          "sliderdefaults": {
           "bgcolor": "#C8D4E3",
           "bordercolor": "rgb(17,17,17)",
           "borderwidth": 1,
           "tickwidth": 0
          },
          "ternary": {
           "aaxis": {
            "gridcolor": "#506784",
            "linecolor": "#506784",
            "ticks": ""
           },
           "baxis": {
            "gridcolor": "#506784",
            "linecolor": "#506784",
            "ticks": ""
           },
           "bgcolor": "rgb(17,17,17)",
           "caxis": {
            "gridcolor": "#506784",
            "linecolor": "#506784",
            "ticks": ""
           }
          },
          "title": {
           "x": 0.05
          },
          "updatemenudefaults": {
           "bgcolor": "#506784",
           "borderwidth": 0
          },
          "xaxis": {
           "automargin": true,
           "gridcolor": "#283442",
           "linecolor": "#506784",
           "ticks": "",
           "title": {
            "standoff": 15
           },
           "zerolinecolor": "#283442",
           "zerolinewidth": 2
          },
          "yaxis": {
           "automargin": true,
           "gridcolor": "#283442",
           "linecolor": "#506784",
           "ticks": "",
           "title": {
            "standoff": 15
           },
           "zerolinecolor": "#283442",
           "zerolinewidth": 2
          }
         }
        },
        "title": {
         "text": "Monk Property Tracker 🙉"
        }
       }
      }
     },
     "metadata": {},
     "output_type": "display_data"
    }
   ],
   "source": [
    "fig = px.scatter_mapbox(\n",
    "    df,\n",
    "    lat='lat',\n",
    "    lon='lon',\n",
    "    mapbox_style='carto-positron',\n",
    "    zoom=11.5,\n",
    "    hover_data={'name': True,\n",
    "    'lat': False,\n",
    "    'lon': False,\n",
    "    'beds': True,\n",
    "    'wc': True,\n",
    "    'garden': True,\n",
    "    'area_sft': True,\n",
    "    'price': True,\n",
    "    'agency': True,\n",
    "    'reno_cost': True,\n",
    "    'yearly_rev': True\n",
    "    }  # Exclude lat and lon from hover\n",
    "    )\n",
    "\n",
    "\n",
    "fig.update_traces(marker=dict(size=12))\n",
    "\n",
    "fig.update_layout(\n",
    "    margin={\"r\":0,\"t\":40,\"l\":0,\"b\":0},\n",
    "    title=\"Monk Property Tracker 🙉\"\n",
    ")\n",
    "# fig.show(renderer=\"browser\")\n",
    "fig.show()"
   ]
  },
  {
   "cell_type": "code",
   "execution_count": 14,
   "metadata": {},
   "outputs": [
    {
     "data": {
      "text/html": [
       "<div style=\"width:100%;\"><div style=\"position:relative;width:100%;height:0;padding-bottom:60%;\"><span style=\"color:#565656\">Make this Notebook Trusted to load map: File -> Trust Notebook</span><iframe srcdoc=\"&lt;!DOCTYPE html&gt;\n",
       "&lt;head&gt;    \n",
       "    &lt;meta http-equiv=&quot;content-type&quot; content=&quot;text/html; charset=UTF-8&quot; /&gt;\n",
       "    \n",
       "        &lt;script&gt;\n",
       "            L_NO_TOUCH = false;\n",
       "            L_DISABLE_3D = false;\n",
       "        &lt;/script&gt;\n",
       "    \n",
       "    &lt;style&gt;html, body {width: 100%;height: 100%;margin: 0;padding: 0;}&lt;/style&gt;\n",
       "    &lt;style&gt;#map {position:absolute;top:0;bottom:0;right:0;left:0;}&lt;/style&gt;\n",
       "    &lt;script src=&quot;https://cdn.jsdelivr.net/npm/leaflet@1.6.0/dist/leaflet.js&quot;&gt;&lt;/script&gt;\n",
       "    &lt;script src=&quot;https://code.jquery.com/jquery-1.12.4.min.js&quot;&gt;&lt;/script&gt;\n",
       "    &lt;script src=&quot;https://maxcdn.bootstrapcdn.com/bootstrap/3.2.0/js/bootstrap.min.js&quot;&gt;&lt;/script&gt;\n",
       "    &lt;script src=&quot;https://cdnjs.cloudflare.com/ajax/libs/Leaflet.awesome-markers/2.0.2/leaflet.awesome-markers.js&quot;&gt;&lt;/script&gt;\n",
       "    &lt;link rel=&quot;stylesheet&quot; href=&quot;https://cdn.jsdelivr.net/npm/leaflet@1.6.0/dist/leaflet.css&quot;/&gt;\n",
       "    &lt;link rel=&quot;stylesheet&quot; href=&quot;https://maxcdn.bootstrapcdn.com/bootstrap/3.2.0/css/bootstrap.min.css&quot;/&gt;\n",
       "    &lt;link rel=&quot;stylesheet&quot; href=&quot;https://maxcdn.bootstrapcdn.com/bootstrap/3.2.0/css/bootstrap-theme.min.css&quot;/&gt;\n",
       "    &lt;link rel=&quot;stylesheet&quot; href=&quot;https://maxcdn.bootstrapcdn.com/font-awesome/4.6.3/css/font-awesome.min.css&quot;/&gt;\n",
       "    &lt;link rel=&quot;stylesheet&quot; href=&quot;https://cdnjs.cloudflare.com/ajax/libs/Leaflet.awesome-markers/2.0.2/leaflet.awesome-markers.css&quot;/&gt;\n",
       "    &lt;link rel=&quot;stylesheet&quot; href=&quot;https://cdn.jsdelivr.net/gh/python-visualization/folium/folium/templates/leaflet.awesome.rotate.min.css&quot;/&gt;\n",
       "    \n",
       "            &lt;meta name=&quot;viewport&quot; content=&quot;width=device-width,\n",
       "                initial-scale=1.0, maximum-scale=1.0, user-scalable=no&quot; /&gt;\n",
       "            &lt;style&gt;\n",
       "                #map_93cc2efe523e3d178852cb0063c77755 {\n",
       "                    position: relative;\n",
       "                    width: 100.0%;\n",
       "                    height: 100.0%;\n",
       "                    left: 0.0%;\n",
       "                    top: 0.0%;\n",
       "                }\n",
       "            &lt;/style&gt;\n",
       "        \n",
       "    &lt;script src=&quot;https://cdnjs.cloudflare.com/ajax/libs/leaflet.markercluster/1.1.0/leaflet.markercluster.js&quot;&gt;&lt;/script&gt;\n",
       "    &lt;link rel=&quot;stylesheet&quot; href=&quot;https://cdnjs.cloudflare.com/ajax/libs/leaflet.markercluster/1.1.0/MarkerCluster.css&quot;/&gt;\n",
       "    &lt;link rel=&quot;stylesheet&quot; href=&quot;https://cdnjs.cloudflare.com/ajax/libs/leaflet.markercluster/1.1.0/MarkerCluster.Default.css&quot;/&gt;\n",
       "&lt;/head&gt;\n",
       "&lt;body&gt;    \n",
       "    \n",
       "            &lt;div class=&quot;folium-map&quot; id=&quot;map_93cc2efe523e3d178852cb0063c77755&quot; &gt;&lt;/div&gt;\n",
       "        \n",
       "&lt;/body&gt;\n",
       "&lt;script&gt;    \n",
       "    \n",
       "            var map_93cc2efe523e3d178852cb0063c77755 = L.map(\n",
       "                &quot;map_93cc2efe523e3d178852cb0063c77755&quot;,\n",
       "                {\n",
       "                    center: [51.519659375, -0.113402875],\n",
       "                    crs: L.CRS.EPSG3857,\n",
       "                    zoom: 11.5,\n",
       "                    zoomControl: true,\n",
       "                    preferCanvas: false,\n",
       "                }\n",
       "            );\n",
       "\n",
       "            \n",
       "\n",
       "        \n",
       "    \n",
       "            var tile_layer_ae6be13da85db250023adcb39689a16d = L.tileLayer(\n",
       "                &quot;https://{s}.tile.openstreetmap.org/{z}/{x}/{y}.png&quot;,\n",
       "                {&quot;attribution&quot;: &quot;Data by \\u0026copy; \\u003ca href=\\&quot;http://openstreetmap.org\\&quot;\\u003eOpenStreetMap\\u003c/a\\u003e, under \\u003ca href=\\&quot;http://www.openstreetmap.org/copyright\\&quot;\\u003eODbL\\u003c/a\\u003e.&quot;, &quot;detectRetina&quot;: false, &quot;maxNativeZoom&quot;: 18, &quot;maxZoom&quot;: 18, &quot;minZoom&quot;: 0, &quot;noWrap&quot;: false, &quot;opacity&quot;: 1, &quot;subdomains&quot;: &quot;abc&quot;, &quot;tms&quot;: false}\n",
       "            ).addTo(map_93cc2efe523e3d178852cb0063c77755);\n",
       "        \n",
       "    \n",
       "            var marker_cluster_d4ac7e7a9eef7119b2b40f4242f1a257 = L.markerClusterGroup(\n",
       "                {}\n",
       "            );\n",
       "            map_93cc2efe523e3d178852cb0063c77755.addLayer(marker_cluster_d4ac7e7a9eef7119b2b40f4242f1a257);\n",
       "        \n",
       "    \n",
       "            var marker_f8cc991bce7f3089346ad0c2db8f8e06 = L.marker(\n",
       "                [51.49892, -0.077847],\n",
       "                {}\n",
       "            ).addTo(marker_cluster_d4ac7e7a9eef7119b2b40f4242f1a257);\n",
       "        \n",
       "    \n",
       "        var popup_8d15a596f9399403286ffbca982d44ec = L.popup({&quot;maxWidth&quot;: &quot;100%&quot;});\n",
       "\n",
       "        \n",
       "            var html_c82431986ee43bbeb8f52e68b46b9285 = $(`&lt;div id=&quot;html_c82431986ee43bbeb8f52e68b46b9285&quot; style=&quot;width: 100.0%; height: 100.0%;&quot;&gt;     &lt;b&gt;Purbrook Estate&lt;/b&gt;&lt;br&gt;     Beds: 3&lt;br&gt;     WC: 1&lt;br&gt;     Garden: 0&lt;br&gt;     Area (sqft): 750&lt;br&gt;     Price: 475000&lt;br&gt;     Agency: waterview&lt;br&gt;     Renovation Cost: 25000&lt;br&gt;     Yearly Revenue: 75700&lt;br&gt;     &lt;img src=&#x27;https://picsum.photos/200/300&#x27;, width=&quot;200&quot;&gt;  # Add an image tag with the image URL     &lt;/div&gt;`)[0];\n",
       "            popup_8d15a596f9399403286ffbca982d44ec.setContent(html_c82431986ee43bbeb8f52e68b46b9285);\n",
       "        \n",
       "\n",
       "        marker_f8cc991bce7f3089346ad0c2db8f8e06.bindPopup(popup_8d15a596f9399403286ffbca982d44ec)\n",
       "        ;\n",
       "\n",
       "        \n",
       "    \n",
       "    \n",
       "            var marker_ed74a1090efc06c2d710fdcbbd33225b = L.marker(\n",
       "                [51.491655, -0.085024],\n",
       "                {}\n",
       "            ).addTo(marker_cluster_d4ac7e7a9eef7119b2b40f4242f1a257);\n",
       "        \n",
       "    \n",
       "        var popup_0214c191078e78032560bf81ca6c7fca = L.popup({&quot;maxWidth&quot;: &quot;100%&quot;});\n",
       "\n",
       "        \n",
       "            var html_85107834dea89017219bab9ac6a924fd = $(`&lt;div id=&quot;html_85107834dea89017219bab9ac6a924fd&quot; style=&quot;width: 100.0%; height: 100.0%;&quot;&gt;     &lt;b&gt;Congreve Street&lt;/b&gt;&lt;br&gt;     Beds: 3&lt;br&gt;     WC: 2&lt;br&gt;     Garden: 1&lt;br&gt;     Area (sqft): 897&lt;br&gt;     Price: 525000&lt;br&gt;     Agency: foxtons&lt;br&gt;     Renovation Cost: 20000&lt;br&gt;     Yearly Revenue: 59600&lt;br&gt;     &lt;img src=&#x27;https://picsum.photos/200/300&#x27;, width=&quot;200&quot;&gt;  # Add an image tag with the image URL     &lt;/div&gt;`)[0];\n",
       "            popup_0214c191078e78032560bf81ca6c7fca.setContent(html_85107834dea89017219bab9ac6a924fd);\n",
       "        \n",
       "\n",
       "        marker_ed74a1090efc06c2d710fdcbbd33225b.bindPopup(popup_0214c191078e78032560bf81ca6c7fca)\n",
       "        ;\n",
       "\n",
       "        \n",
       "    \n",
       "    \n",
       "            var marker_81cd91827085b1e4fbf474e554acd47e = L.marker(\n",
       "                [51.53671, -0.077481],\n",
       "                {}\n",
       "            ).addTo(marker_cluster_d4ac7e7a9eef7119b2b40f4242f1a257);\n",
       "        \n",
       "    \n",
       "        var popup_fc653a4a0e9aaeeda505a832a08e1440 = L.popup({&quot;maxWidth&quot;: &quot;100%&quot;});\n",
       "\n",
       "        \n",
       "            var html_0ad20f20a94305adda12c01aa9747707 = $(`&lt;div id=&quot;html_0ad20f20a94305adda12c01aa9747707&quot; style=&quot;width: 100.0%; height: 100.0%;&quot;&gt;     &lt;b&gt;Baltic Place&lt;/b&gt;&lt;br&gt;     Beds: 2&lt;br&gt;     WC: 1&lt;br&gt;     Garden: 0&lt;br&gt;     Area (sqft): 833&lt;br&gt;     Price: 550000&lt;br&gt;     Agency: stirling ackroyd&lt;br&gt;     Renovation Cost: 5000&lt;br&gt;     Yearly Revenue: 52800&lt;br&gt;     &lt;img src=&#x27;https://picsum.photos/200/300&#x27;, width=&quot;200&quot;&gt;  # Add an image tag with the image URL     &lt;/div&gt;`)[0];\n",
       "            popup_fc653a4a0e9aaeeda505a832a08e1440.setContent(html_0ad20f20a94305adda12c01aa9747707);\n",
       "        \n",
       "\n",
       "        marker_81cd91827085b1e4fbf474e554acd47e.bindPopup(popup_fc653a4a0e9aaeeda505a832a08e1440)\n",
       "        ;\n",
       "\n",
       "        \n",
       "    \n",
       "    \n",
       "            var marker_29c85d1955713e256399a5266b6520c1 = L.marker(\n",
       "                [51.524157, -0.188245],\n",
       "                {}\n",
       "            ).addTo(marker_cluster_d4ac7e7a9eef7119b2b40f4242f1a257);\n",
       "        \n",
       "    \n",
       "        var popup_5e21039b21a0bcd75579b478ba75f384 = L.popup({&quot;maxWidth&quot;: &quot;100%&quot;});\n",
       "\n",
       "        \n",
       "            var html_10e15cddb9a755ac4427ef02321fb436 = $(`&lt;div id=&quot;html_10e15cddb9a755ac4427ef02321fb436&quot; style=&quot;width: 100.0%; height: 100.0%;&quot;&gt;     &lt;b&gt;Sutherland Avenue&lt;/b&gt;&lt;br&gt;     Beds: 2&lt;br&gt;     WC: 1&lt;br&gt;     Garden: 1&lt;br&gt;     Area (sqft): 565&lt;br&gt;     Price: 550000&lt;br&gt;     Agency: dexters&lt;br&gt;     Renovation Cost: 10000&lt;br&gt;     Yearly Revenue: 64400&lt;br&gt;     &lt;img src=&#x27;https://picsum.photos/200/300&#x27;, width=&quot;200&quot;&gt;  # Add an image tag with the image URL     &lt;/div&gt;`)[0];\n",
       "            popup_5e21039b21a0bcd75579b478ba75f384.setContent(html_10e15cddb9a755ac4427ef02321fb436);\n",
       "        \n",
       "\n",
       "        marker_29c85d1955713e256399a5266b6520c1.bindPopup(popup_5e21039b21a0bcd75579b478ba75f384)\n",
       "        ;\n",
       "\n",
       "        \n",
       "    \n",
       "    \n",
       "            var marker_023417c5cec2f7a24ec764f3b77c3e5f = L.marker(\n",
       "                [51.512468, -0.215889],\n",
       "                {}\n",
       "            ).addTo(marker_cluster_d4ac7e7a9eef7119b2b40f4242f1a257);\n",
       "        \n",
       "    \n",
       "        var popup_014829de03e5d2fa4f32f4d2b7c5668a = L.popup({&quot;maxWidth&quot;: &quot;100%&quot;});\n",
       "\n",
       "        \n",
       "            var html_ebdcab3aab7f17d8291ccf3d304d2f1e = $(`&lt;div id=&quot;html_ebdcab3aab7f17d8291ccf3d304d2f1e&quot; style=&quot;width: 100.0%; height: 100.0%;&quot;&gt;     &lt;b&gt;Lancaster West&lt;/b&gt;&lt;br&gt;     Beds: 2&lt;br&gt;     WC: 2&lt;br&gt;     Garden: 0&lt;br&gt;     Area (sqft): 668&lt;br&gt;     Price: 500000&lt;br&gt;     Agency: winkworth&lt;br&gt;     Renovation Cost: 8000&lt;br&gt;     Yearly Revenue: 69600&lt;br&gt;     &lt;img src=&#x27;https://picsum.photos/200/300&#x27;, width=&quot;200&quot;&gt;  # Add an image tag with the image URL     &lt;/div&gt;`)[0];\n",
       "            popup_014829de03e5d2fa4f32f4d2b7c5668a.setContent(html_ebdcab3aab7f17d8291ccf3d304d2f1e);\n",
       "        \n",
       "\n",
       "        marker_023417c5cec2f7a24ec764f3b77c3e5f.bindPopup(popup_014829de03e5d2fa4f32f4d2b7c5668a)\n",
       "        ;\n",
       "\n",
       "        \n",
       "    \n",
       "    \n",
       "            var marker_d428bc99175bcc06fe310df889963f35 = L.marker(\n",
       "                [51.530816, -0.069007],\n",
       "                {}\n",
       "            ).addTo(marker_cluster_d4ac7e7a9eef7119b2b40f4242f1a257);\n",
       "        \n",
       "    \n",
       "        var popup_625ece95d116eecc5041f1a506b174ab = L.popup({&quot;maxWidth&quot;: &quot;100%&quot;});\n",
       "\n",
       "        \n",
       "            var html_0ffbfc1f9593a910bbdab644d5d1a76f = $(`&lt;div id=&quot;html_0ffbfc1f9593a910bbdab644d5d1a76f&quot; style=&quot;width: 100.0%; height: 100.0%;&quot;&gt;     &lt;b&gt;London Terrace Hoxton&lt;/b&gt;&lt;br&gt;     Beds: 2&lt;br&gt;     WC: 1&lt;br&gt;     Garden: 0&lt;br&gt;     Area (sqft): 610&lt;br&gt;     Price: 480000&lt;br&gt;     Agency: dexters&lt;br&gt;     Renovation Cost: 10000&lt;br&gt;     Yearly Revenue: 54700&lt;br&gt;     &lt;img src=&#x27;https://picsum.photos/200/300&#x27;, width=&quot;200&quot;&gt;  # Add an image tag with the image URL     &lt;/div&gt;`)[0];\n",
       "            popup_625ece95d116eecc5041f1a506b174ab.setContent(html_0ffbfc1f9593a910bbdab644d5d1a76f);\n",
       "        \n",
       "\n",
       "        marker_d428bc99175bcc06fe310df889963f35.bindPopup(popup_625ece95d116eecc5041f1a506b174ab)\n",
       "        ;\n",
       "\n",
       "        \n",
       "    \n",
       "    \n",
       "            var marker_fef9124bb6dccb3a1dc8955b2694a7aa = L.marker(\n",
       "                [51.52832, -0.082419],\n",
       "                {}\n",
       "            ).addTo(marker_cluster_d4ac7e7a9eef7119b2b40f4242f1a257);\n",
       "        \n",
       "    \n",
       "        var popup_8d8f2cb9b23ec2218dd37158df54c13d = L.popup({&quot;maxWidth&quot;: &quot;100%&quot;});\n",
       "\n",
       "        \n",
       "            var html_0d9cb46792f590db4d0233724af8e892 = $(`&lt;div id=&quot;html_0d9cb46792f590db4d0233724af8e892&quot; style=&quot;width: 100.0%; height: 100.0%;&quot;&gt;     &lt;b&gt;Royal Oak Court&lt;/b&gt;&lt;br&gt;     Beds: 2&lt;br&gt;     WC: 1&lt;br&gt;     Garden: 1&lt;br&gt;     Area (sqft): 670&lt;br&gt;     Price: 550000&lt;br&gt;     Agency: winkworth&lt;br&gt;     Renovation Cost: 10000&lt;br&gt;     Yearly Revenue: 67600&lt;br&gt;     &lt;img src=&#x27;https://picsum.photos/200/300&#x27;, width=&quot;200&quot;&gt;  # Add an image tag with the image URL     &lt;/div&gt;`)[0];\n",
       "            popup_8d8f2cb9b23ec2218dd37158df54c13d.setContent(html_0d9cb46792f590db4d0233724af8e892);\n",
       "        \n",
       "\n",
       "        marker_fef9124bb6dccb3a1dc8955b2694a7aa.bindPopup(popup_8d8f2cb9b23ec2218dd37158df54c13d)\n",
       "        ;\n",
       "\n",
       "        \n",
       "    \n",
       "    \n",
       "            var marker_6fcf3d8c7bb3198f3b543534f5bf3ea9 = L.marker(\n",
       "                [51.534229, -0.111311],\n",
       "                {}\n",
       "            ).addTo(marker_cluster_d4ac7e7a9eef7119b2b40f4242f1a257);\n",
       "        \n",
       "    \n",
       "        var popup_f1399bd80313b4d1604ded1c91b4b917 = L.popup({&quot;maxWidth&quot;: &quot;100%&quot;});\n",
       "\n",
       "        \n",
       "            var html_d88fb64d94fcc27e6e4f54b22c3fa1be = $(`&lt;div id=&quot;html_d88fb64d94fcc27e6e4f54b22c3fa1be&quot; style=&quot;width: 100.0%; height: 100.0%;&quot;&gt;     &lt;b&gt;Maygood Street&lt;/b&gt;&lt;br&gt;     Beds: 2&lt;br&gt;     WC: 1&lt;br&gt;     Garden: 0&lt;br&gt;     Area (sqft): 506&lt;br&gt;     Price: 450000&lt;br&gt;     Agency: winkworth&lt;br&gt;     Renovation Cost: 25000&lt;br&gt;     Yearly Revenue: 69900&lt;br&gt;     &lt;img src=&#x27;https://picsum.photos/200/300&#x27;, width=&quot;200&quot;&gt;  # Add an image tag with the image URL     &lt;/div&gt;`)[0];\n",
       "            popup_f1399bd80313b4d1604ded1c91b4b917.setContent(html_d88fb64d94fcc27e6e4f54b22c3fa1be);\n",
       "        \n",
       "\n",
       "        marker_6fcf3d8c7bb3198f3b543534f5bf3ea9.bindPopup(popup_f1399bd80313b4d1604ded1c91b4b917)\n",
       "        ;\n",
       "\n",
       "        \n",
       "    \n",
       "&lt;/script&gt;\" style=\"position:absolute;width:100%;height:100%;left:0;top:0;border:none !important;\" allowfullscreen webkitallowfullscreen mozallowfullscreen></iframe></div></div>"
      ],
      "text/plain": [
       "<folium.folium.Map at 0x14665e8f0>"
      ]
     },
     "execution_count": 14,
     "metadata": {},
     "output_type": "execute_result"
    }
   ],
   "source": [
    "# Create a base map centered around a specific location\n",
    "map_center = [df['lat'].mean(), df['lon'].mean()]  # Center the map based on the mean latitude and longitude\n",
    "m = folium.Map(location=map_center, zoom_start=11.5)\n",
    "\n",
    "# Create a MarkerCluster layer for better performance with large datasets\n",
    "marker_cluster = MarkerCluster().add_to(m)\n",
    "\n",
    "# Add markers for each property\n",
    "for index, row in df.iterrows():\n",
    "    # Construct the HTML content for the popup, including an image tag for each property\n",
    "    popup_content = f\"\"\"\n",
    "    <b>{row['name']}</b><br>\n",
    "    Beds: {row['beds']}<br>\n",
    "    WC: {row['wc']}<br>\n",
    "    Garden: {row['garden']}<br>\n",
    "    Area (sqft): {row['area_sft']}<br>\n",
    "    Price: {row['price']}<br>\n",
    "    Agency: {row['agency']}<br>\n",
    "    Renovation Cost: {row['reno_cost']}<br>\n",
    "    Yearly Revenue: {row['yearly_rev']}<br>\n",
    "    <img src='https://picsum.photos/200/300', width=\"200\"> \n",
    "    \"\"\"\n",
    "\n",
    "    # Create the marker with the customized popup content\n",
    "    folium.Marker(\n",
    "        location=[row['lat'], row['lon']],\n",
    "        popup=popup_content,\n",
    "    ).add_to(marker_cluster)\n",
    "\n",
    "# Display the map\n",
    "m.save('index.html')  # Save the map as an HTML file\n",
    "m\n"
   ]
  },
  {
   "cell_type": "markdown",
   "metadata": {},
   "source": [
    "### Append crime data"
   ]
  },
  {
   "cell_type": "code",
   "execution_count": 17,
   "metadata": {},
   "outputs": [],
   "source": [
    "# combine list into tuples\n",
    "combined_coords = list(zip(lat_list,lon_list))"
   ]
  },
  {
   "cell_type": "code",
   "execution_count": 13,
   "metadata": {},
   "outputs": [
    {
     "name": "stdout",
     "output_type": "stream",
     "text": [
      "processed burglary count...\n",
      "processed burglary count...\n",
      "processed burglary count...\n",
      "processed burglary count...\n",
      "processed burglary count...\n",
      "processed burglary count...\n",
      "processed burglary count...\n",
      "processed burglary count...\n"
     ]
    }
   ],
   "source": [
    "crime_list = []\n",
    "for location in combined_coords:\n",
    "    lat = location[0]\n",
    "    lon = location[1]\n",
    "    url = f'https://data.police.uk/api/crimes-street/burglary?lat={lat}&lng={lon}'  # Corrected URL format\n",
    "    responses = requests.get(url).json()\n",
    "    crime_list.append(len(responses))  # Loop through unique names\n",
    "    print('processed burglary count...')\n",
    "\n",
    "df['burglary_count'] = crime_list"
   ]
  },
  {
   "cell_type": "code",
   "execution_count": 14,
   "metadata": {},
   "outputs": [
    {
     "data": {
      "text/plain": [
       "0    10\n",
       "1     0\n",
       "2     0\n",
       "3     0\n",
       "4     0\n",
       "5     0\n",
       "6     5\n",
       "7     0\n",
       "Name: burglary_count, dtype: int64"
      ]
     },
     "execution_count": 14,
     "metadata": {},
     "output_type": "execute_result"
    }
   ],
   "source": [
    "df['burglary_count']"
   ]
  },
  {
   "cell_type": "code",
   "execution_count": 20,
   "metadata": {},
   "outputs": [
    {
     "data": {
      "application/vnd.plotly.v1+json": {
       "config": {
        "plotlyServerURL": "https://plot.ly"
       },
       "data": [
        {
         "hovertemplate": "Variable=price<br>x=%{x}<br>Standardized Value=%{y}<extra></extra>",
         "legendgroup": "price",
         "line": {
          "color": "#636efa",
          "dash": "solid"
         },
         "marker": {
          "symbol": "circle"
         },
         "mode": "lines",
         "name": "price",
         "orientation": "v",
         "showlegend": true,
         "type": "scatter",
         "x": [
          "Purbrook Estate",
          "Congreve Street",
          "Baltic Place",
          "Sutherland Avenue",
          "Lancaster West",
          "London Terrace Hoxton",
          "Royal Oak Court",
          "Maygood Street"
         ],
         "xaxis": "x",
         "y": [
          -0.8890008890013334,
          0.3810003810005715,
          1.016001016001524,
          1.016001016001524,
          -0.254000254000381,
          -0.762000762001143,
          1.016001016001524,
          -1.524001524002286
         ],
         "yaxis": "y"
        },
        {
         "hovertemplate": "Variable=reno_cost<br>x=%{x}<br>Standardized Value=%{y}<extra></extra>",
         "legendgroup": "reno_cost",
         "line": {
          "color": "#EF553B",
          "dash": "solid"
         },
         "marker": {
          "symbol": "circle"
         },
         "mode": "lines",
         "name": "reno_cost",
         "orientation": "v",
         "showlegend": true,
         "type": "scatter",
         "x": [
          "Purbrook Estate",
          "Congreve Street",
          "Baltic Place",
          "Sutherland Avenue",
          "Lancaster West",
          "London Terrace Hoxton",
          "Royal Oak Court",
          "Maygood Street"
         ],
         "xaxis": "x",
         "y": [
          1.367217797081749,
          0.7386119133660023,
          -1.1472057377812377,
          -0.518599854065491,
          -0.7700422075517896,
          -0.518599854065491,
          -0.518599854065491,
          1.367217797081749
         ],
         "yaxis": "y"
        },
        {
         "hovertemplate": "Variable=yearly_rev<br>x=%{x}<br>Standardized Value=%{y}<extra></extra>",
         "legendgroup": "yearly_rev",
         "line": {
          "color": "#00cc96",
          "dash": "solid"
         },
         "marker": {
          "symbol": "circle"
         },
         "mode": "lines",
         "name": "yearly_rev",
         "orientation": "v",
         "showlegend": true,
         "type": "scatter",
         "x": [
          "Purbrook Estate",
          "Congreve Street",
          "Baltic Place",
          "Sutherland Avenue",
          "Lancaster West",
          "London Terrace Hoxton",
          "Royal Oak Court",
          "Maygood Street"
         ],
         "xaxis": "x",
         "y": [
          1.4284629343417568,
          -0.5867180727033503,
          -1.4378504235050105,
          0.014081233744880408,
          0.664947149063797,
          -1.2000340313692524,
          0.4146141047103675,
          0.7024971057168115
         ],
         "yaxis": "y"
        },
        {
         "hovertemplate": "Variable=burglary_count<br>x=%{x}<br>Standardized Value=%{y}<extra></extra>",
         "legendgroup": "burglary_count",
         "line": {
          "color": "#ab63fa",
          "dash": "solid"
         },
         "marker": {
          "symbol": "circle"
         },
         "mode": "lines",
         "name": "burglary_count",
         "orientation": "v",
         "showlegend": true,
         "type": "scatter",
         "x": [
          "Purbrook Estate",
          "Congreve Street",
          "Baltic Place",
          "Sutherland Avenue",
          "Lancaster West",
          "London Terrace Hoxton",
          "Royal Oak Court",
          "Maygood Street"
         ],
         "xaxis": "x",
         "y": [
          2.184069891354803,
          -0.5040161287741853,
          -0.5040161287741853,
          -0.5040161287741853,
          -0.5040161287741853,
          -0.5040161287741853,
          0.8400268812903088,
          -0.5040161287741853
         ],
         "yaxis": "y"
        }
       ],
       "layout": {
        "legend": {
         "title": {
          "text": "Variable"
         },
         "tracegroupgap": 0
        },
        "template": {
         "data": {
          "bar": [
           {
            "error_x": {
             "color": "#f2f5fa"
            },
            "error_y": {
             "color": "#f2f5fa"
            },
            "marker": {
             "line": {
              "color": "rgb(17,17,17)",
              "width": 0.5
             },
             "pattern": {
              "fillmode": "overlay",
              "size": 10,
              "solidity": 0.2
             }
            },
            "type": "bar"
           }
          ],
          "barpolar": [
           {
            "marker": {
             "line": {
              "color": "rgb(17,17,17)",
              "width": 0.5
             },
             "pattern": {
              "fillmode": "overlay",
              "size": 10,
              "solidity": 0.2
             }
            },
            "type": "barpolar"
           }
          ],
          "carpet": [
           {
            "aaxis": {
             "endlinecolor": "#A2B1C6",
             "gridcolor": "#506784",
             "linecolor": "#506784",
             "minorgridcolor": "#506784",
             "startlinecolor": "#A2B1C6"
            },
            "baxis": {
             "endlinecolor": "#A2B1C6",
             "gridcolor": "#506784",
             "linecolor": "#506784",
             "minorgridcolor": "#506784",
             "startlinecolor": "#A2B1C6"
            },
            "type": "carpet"
           }
          ],
          "choropleth": [
           {
            "colorbar": {
             "outlinewidth": 0,
             "ticks": ""
            },
            "type": "choropleth"
           }
          ],
          "contour": [
           {
            "colorbar": {
             "outlinewidth": 0,
             "ticks": ""
            },
            "colorscale": [
             [
              0,
              "#0d0887"
             ],
             [
              0.1111111111111111,
              "#46039f"
             ],
             [
              0.2222222222222222,
              "#7201a8"
             ],
             [
              0.3333333333333333,
              "#9c179e"
             ],
             [
              0.4444444444444444,
              "#bd3786"
             ],
             [
              0.5555555555555556,
              "#d8576b"
             ],
             [
              0.6666666666666666,
              "#ed7953"
             ],
             [
              0.7777777777777778,
              "#fb9f3a"
             ],
             [
              0.8888888888888888,
              "#fdca26"
             ],
             [
              1,
              "#f0f921"
             ]
            ],
            "type": "contour"
           }
          ],
          "contourcarpet": [
           {
            "colorbar": {
             "outlinewidth": 0,
             "ticks": ""
            },
            "type": "contourcarpet"
           }
          ],
          "heatmap": [
           {
            "colorbar": {
             "outlinewidth": 0,
             "ticks": ""
            },
            "colorscale": [
             [
              0,
              "#0d0887"
             ],
             [
              0.1111111111111111,
              "#46039f"
             ],
             [
              0.2222222222222222,
              "#7201a8"
             ],
             [
              0.3333333333333333,
              "#9c179e"
             ],
             [
              0.4444444444444444,
              "#bd3786"
             ],
             [
              0.5555555555555556,
              "#d8576b"
             ],
             [
              0.6666666666666666,
              "#ed7953"
             ],
             [
              0.7777777777777778,
              "#fb9f3a"
             ],
             [
              0.8888888888888888,
              "#fdca26"
             ],
             [
              1,
              "#f0f921"
             ]
            ],
            "type": "heatmap"
           }
          ],
          "heatmapgl": [
           {
            "colorbar": {
             "outlinewidth": 0,
             "ticks": ""
            },
            "colorscale": [
             [
              0,
              "#0d0887"
             ],
             [
              0.1111111111111111,
              "#46039f"
             ],
             [
              0.2222222222222222,
              "#7201a8"
             ],
             [
              0.3333333333333333,
              "#9c179e"
             ],
             [
              0.4444444444444444,
              "#bd3786"
             ],
             [
              0.5555555555555556,
              "#d8576b"
             ],
             [
              0.6666666666666666,
              "#ed7953"
             ],
             [
              0.7777777777777778,
              "#fb9f3a"
             ],
             [
              0.8888888888888888,
              "#fdca26"
             ],
             [
              1,
              "#f0f921"
             ]
            ],
            "type": "heatmapgl"
           }
          ],
          "histogram": [
           {
            "marker": {
             "pattern": {
              "fillmode": "overlay",
              "size": 10,
              "solidity": 0.2
             }
            },
            "type": "histogram"
           }
          ],
          "histogram2d": [
           {
            "colorbar": {
             "outlinewidth": 0,
             "ticks": ""
            },
            "colorscale": [
             [
              0,
              "#0d0887"
             ],
             [
              0.1111111111111111,
              "#46039f"
             ],
             [
              0.2222222222222222,
              "#7201a8"
             ],
             [
              0.3333333333333333,
              "#9c179e"
             ],
             [
              0.4444444444444444,
              "#bd3786"
             ],
             [
              0.5555555555555556,
              "#d8576b"
             ],
             [
              0.6666666666666666,
              "#ed7953"
             ],
             [
              0.7777777777777778,
              "#fb9f3a"
             ],
             [
              0.8888888888888888,
              "#fdca26"
             ],
             [
              1,
              "#f0f921"
             ]
            ],
            "type": "histogram2d"
           }
          ],
          "histogram2dcontour": [
           {
            "colorbar": {
             "outlinewidth": 0,
             "ticks": ""
            },
            "colorscale": [
             [
              0,
              "#0d0887"
             ],
             [
              0.1111111111111111,
              "#46039f"
             ],
             [
              0.2222222222222222,
              "#7201a8"
             ],
             [
              0.3333333333333333,
              "#9c179e"
             ],
             [
              0.4444444444444444,
              "#bd3786"
             ],
             [
              0.5555555555555556,
              "#d8576b"
             ],
             [
              0.6666666666666666,
              "#ed7953"
             ],
             [
              0.7777777777777778,
              "#fb9f3a"
             ],
             [
              0.8888888888888888,
              "#fdca26"
             ],
             [
              1,
              "#f0f921"
             ]
            ],
            "type": "histogram2dcontour"
           }
          ],
          "mesh3d": [
           {
            "colorbar": {
             "outlinewidth": 0,
             "ticks": ""
            },
            "type": "mesh3d"
           }
          ],
          "parcoords": [
           {
            "line": {
             "colorbar": {
              "outlinewidth": 0,
              "ticks": ""
             }
            },
            "type": "parcoords"
           }
          ],
          "pie": [
           {
            "automargin": true,
            "type": "pie"
           }
          ],
          "scatter": [
           {
            "marker": {
             "line": {
              "color": "#283442"
             }
            },
            "type": "scatter"
           }
          ],
          "scatter3d": [
           {
            "line": {
             "colorbar": {
              "outlinewidth": 0,
              "ticks": ""
             }
            },
            "marker": {
             "colorbar": {
              "outlinewidth": 0,
              "ticks": ""
             }
            },
            "type": "scatter3d"
           }
          ],
          "scattercarpet": [
           {
            "marker": {
             "colorbar": {
              "outlinewidth": 0,
              "ticks": ""
             }
            },
            "type": "scattercarpet"
           }
          ],
          "scattergeo": [
           {
            "marker": {
             "colorbar": {
              "outlinewidth": 0,
              "ticks": ""
             }
            },
            "type": "scattergeo"
           }
          ],
          "scattergl": [
           {
            "marker": {
             "line": {
              "color": "#283442"
             }
            },
            "type": "scattergl"
           }
          ],
          "scattermapbox": [
           {
            "marker": {
             "colorbar": {
              "outlinewidth": 0,
              "ticks": ""
             }
            },
            "type": "scattermapbox"
           }
          ],
          "scatterpolar": [
           {
            "marker": {
             "colorbar": {
              "outlinewidth": 0,
              "ticks": ""
             }
            },
            "type": "scatterpolar"
           }
          ],
          "scatterpolargl": [
           {
            "marker": {
             "colorbar": {
              "outlinewidth": 0,
              "ticks": ""
             }
            },
            "type": "scatterpolargl"
           }
          ],
          "scatterternary": [
           {
            "marker": {
             "colorbar": {
              "outlinewidth": 0,
              "ticks": ""
             }
            },
            "type": "scatterternary"
           }
          ],
          "surface": [
           {
            "colorbar": {
             "outlinewidth": 0,
             "ticks": ""
            },
            "colorscale": [
             [
              0,
              "#0d0887"
             ],
             [
              0.1111111111111111,
              "#46039f"
             ],
             [
              0.2222222222222222,
              "#7201a8"
             ],
             [
              0.3333333333333333,
              "#9c179e"
             ],
             [
              0.4444444444444444,
              "#bd3786"
             ],
             [
              0.5555555555555556,
              "#d8576b"
             ],
             [
              0.6666666666666666,
              "#ed7953"
             ],
             [
              0.7777777777777778,
              "#fb9f3a"
             ],
             [
              0.8888888888888888,
              "#fdca26"
             ],
             [
              1,
              "#f0f921"
             ]
            ],
            "type": "surface"
           }
          ],
          "table": [
           {
            "cells": {
             "fill": {
              "color": "#506784"
             },
             "line": {
              "color": "rgb(17,17,17)"
             }
            },
            "header": {
             "fill": {
              "color": "#2a3f5f"
             },
             "line": {
              "color": "rgb(17,17,17)"
             }
            },
            "type": "table"
           }
          ]
         },
         "layout": {
          "annotationdefaults": {
           "arrowcolor": "#f2f5fa",
           "arrowhead": 0,
           "arrowwidth": 1
          },
          "autotypenumbers": "strict",
          "coloraxis": {
           "colorbar": {
            "outlinewidth": 0,
            "ticks": ""
           }
          },
          "colorscale": {
           "diverging": [
            [
             0,
             "#8e0152"
            ],
            [
             0.1,
             "#c51b7d"
            ],
            [
             0.2,
             "#de77ae"
            ],
            [
             0.3,
             "#f1b6da"
            ],
            [
             0.4,
             "#fde0ef"
            ],
            [
             0.5,
             "#f7f7f7"
            ],
            [
             0.6,
             "#e6f5d0"
            ],
            [
             0.7,
             "#b8e186"
            ],
            [
             0.8,
             "#7fbc41"
            ],
            [
             0.9,
             "#4d9221"
            ],
            [
             1,
             "#276419"
            ]
           ],
           "sequential": [
            [
             0,
             "#0d0887"
            ],
            [
             0.1111111111111111,
             "#46039f"
            ],
            [
             0.2222222222222222,
             "#7201a8"
            ],
            [
             0.3333333333333333,
             "#9c179e"
            ],
            [
             0.4444444444444444,
             "#bd3786"
            ],
            [
             0.5555555555555556,
             "#d8576b"
            ],
            [
             0.6666666666666666,
             "#ed7953"
            ],
            [
             0.7777777777777778,
             "#fb9f3a"
            ],
            [
             0.8888888888888888,
             "#fdca26"
            ],
            [
             1,
             "#f0f921"
            ]
           ],
           "sequentialminus": [
            [
             0,
             "#0d0887"
            ],
            [
             0.1111111111111111,
             "#46039f"
            ],
            [
             0.2222222222222222,
             "#7201a8"
            ],
            [
             0.3333333333333333,
             "#9c179e"
            ],
            [
             0.4444444444444444,
             "#bd3786"
            ],
            [
             0.5555555555555556,
             "#d8576b"
            ],
            [
             0.6666666666666666,
             "#ed7953"
            ],
            [
             0.7777777777777778,
             "#fb9f3a"
            ],
            [
             0.8888888888888888,
             "#fdca26"
            ],
            [
             1,
             "#f0f921"
            ]
           ]
          },
          "colorway": [
           "#636efa",
           "#EF553B",
           "#00cc96",
           "#ab63fa",
           "#FFA15A",
           "#19d3f3",
           "#FF6692",
           "#B6E880",
           "#FF97FF",
           "#FECB52"
          ],
          "font": {
           "color": "#f2f5fa"
          },
          "geo": {
           "bgcolor": "rgb(17,17,17)",
           "lakecolor": "rgb(17,17,17)",
           "landcolor": "rgb(17,17,17)",
           "showlakes": true,
           "showland": true,
           "subunitcolor": "#506784"
          },
          "hoverlabel": {
           "align": "left"
          },
          "hovermode": "closest",
          "mapbox": {
           "style": "dark"
          },
          "paper_bgcolor": "rgb(17,17,17)",
          "plot_bgcolor": "rgb(17,17,17)",
          "polar": {
           "angularaxis": {
            "gridcolor": "#506784",
            "linecolor": "#506784",
            "ticks": ""
           },
           "bgcolor": "rgb(17,17,17)",
           "radialaxis": {
            "gridcolor": "#506784",
            "linecolor": "#506784",
            "ticks": ""
           }
          },
          "scene": {
           "xaxis": {
            "backgroundcolor": "rgb(17,17,17)",
            "gridcolor": "#506784",
            "gridwidth": 2,
            "linecolor": "#506784",
            "showbackground": true,
            "ticks": "",
            "zerolinecolor": "#C8D4E3"
           },
           "yaxis": {
            "backgroundcolor": "rgb(17,17,17)",
            "gridcolor": "#506784",
            "gridwidth": 2,
            "linecolor": "#506784",
            "showbackground": true,
            "ticks": "",
            "zerolinecolor": "#C8D4E3"
           },
           "zaxis": {
            "backgroundcolor": "rgb(17,17,17)",
            "gridcolor": "#506784",
            "gridwidth": 2,
            "linecolor": "#506784",
            "showbackground": true,
            "ticks": "",
            "zerolinecolor": "#C8D4E3"
           }
          },
          "shapedefaults": {
           "line": {
            "color": "#f2f5fa"
           }
          },
          "sliderdefaults": {
           "bgcolor": "#C8D4E3",
           "bordercolor": "rgb(17,17,17)",
           "borderwidth": 1,
           "tickwidth": 0
          },
          "ternary": {
           "aaxis": {
            "gridcolor": "#506784",
            "linecolor": "#506784",
            "ticks": ""
           },
           "baxis": {
            "gridcolor": "#506784",
            "linecolor": "#506784",
            "ticks": ""
           },
           "bgcolor": "rgb(17,17,17)",
           "caxis": {
            "gridcolor": "#506784",
            "linecolor": "#506784",
            "ticks": ""
           }
          },
          "title": {
           "x": 0.05
          },
          "updatemenudefaults": {
           "bgcolor": "#506784",
           "borderwidth": 0
          },
          "xaxis": {
           "automargin": true,
           "gridcolor": "#283442",
           "linecolor": "#506784",
           "ticks": "",
           "title": {
            "standoff": 15
           },
           "zerolinecolor": "#283442",
           "zerolinewidth": 2
          },
          "yaxis": {
           "automargin": true,
           "gridcolor": "#283442",
           "linecolor": "#506784",
           "ticks": "",
           "title": {
            "standoff": 15
           },
           "zerolinecolor": "#283442",
           "zerolinewidth": 2
          }
         }
        },
        "title": {
         "text": "Standardized Numeric Columns Over Time"
        },
        "xaxis": {
         "anchor": "y",
         "domain": [
          0,
          1
         ],
         "title": {
          "text": "x"
         }
        },
        "yaxis": {
         "anchor": "x",
         "domain": [
          0,
          1
         ],
         "title": {
          "text": "Standardized Value"
         }
        }
       }
      }
     },
     "metadata": {},
     "output_type": "display_data"
    }
   ],
   "source": [
    "def property_plot():    # Select numeric columns only\n",
    "    numeric_df = df.select_dtypes(include=['float64', 'int64'])\n",
    "\n",
    "    # Standardize the data\n",
    "    df_standardized = (numeric_df - numeric_df.mean()) / numeric_df.std()\n",
    "    df_standardized = df_standardized[['price','reno_cost','yearly_rev', 'burglary_count']]\n",
    "\n",
    "    # Plot the standardized data\n",
    "    fig = px.line(df_standardized, x=df.name, y=df_standardized.columns,\n",
    "                labels={'value': 'Standardized Value', 'variable': 'Variable', 'index': 'Date'},\n",
    "                title=\"Standardized Numeric Columns Over Time\")\n",
    "\n",
    "    return fig.show()\n",
    "\n",
    "property_plot()"
   ]
  }
 ],
 "metadata": {
  "kernelspec": {
   "display_name": "lewagon",
   "language": "python",
   "name": "python3"
  },
  "language_info": {
   "codemirror_mode": {
    "name": "ipython",
    "version": 3
   },
   "file_extension": ".py",
   "mimetype": "text/x-python",
   "name": "python",
   "nbconvert_exporter": "python",
   "pygments_lexer": "ipython3",
   "version": "3.10.6"
  }
 },
 "nbformat": 4,
 "nbformat_minor": 2
}
