{
 "cells": [
  {
   "cell_type": "code",
   "execution_count": 19,
   "metadata": {},
   "outputs": [],
   "source": [
    "import pandas as pd \n",
    "import plotly.express as px\n",
    "import requests\n",
    "# Set the default theme to plotly_dark\n",
    "import plotly.io as pio\n",
    "pio.templates.default = \"plotly_dark\"\n",
    "import folium\n",
    "from folium.plugins import MarkerCluster\n",
    "\n",
    "import warnings\n",
    "warnings.simplefilter('ignore')"
   ]
  },
  {
   "cell_type": "markdown",
   "metadata": {},
   "source": [
    "# Map Locations to Map"
   ]
  },
  {
   "cell_type": "code",
   "execution_count": 21,
   "metadata": {},
   "outputs": [
    {
     "data": {
      "text/html": [
       "<div>\n",
       "<style scoped>\n",
       "    .dataframe tbody tr th:only-of-type {\n",
       "        vertical-align: middle;\n",
       "    }\n",
       "\n",
       "    .dataframe tbody tr th {\n",
       "        vertical-align: top;\n",
       "    }\n",
       "\n",
       "    .dataframe thead th {\n",
       "        text-align: right;\n",
       "    }\n",
       "</style>\n",
       "<table border=\"1\" class=\"dataframe\">\n",
       "  <thead>\n",
       "    <tr style=\"text-align: right;\">\n",
       "      <th></th>\n",
       "      <th>name</th>\n",
       "      <th>beds</th>\n",
       "      <th>wc</th>\n",
       "      <th>garden</th>\n",
       "      <th>price</th>\n",
       "      <th>area_sft</th>\n",
       "      <th>location</th>\n",
       "      <th>leasehold</th>\n",
       "      <th>ctax_band</th>\n",
       "      <th>service_charge</th>\n",
       "      <th>agency</th>\n",
       "      <th>URL</th>\n",
       "      <th>reno_cost</th>\n",
       "      <th>yearly_rev</th>\n",
       "    </tr>\n",
       "  </thead>\n",
       "  <tbody>\n",
       "    <tr>\n",
       "      <th>0</th>\n",
       "      <td>Purbrook Estate</td>\n",
       "      <td>3</td>\n",
       "      <td>1</td>\n",
       "      <td>0</td>\n",
       "      <td>475000</td>\n",
       "      <td>750</td>\n",
       "      <td>SE1 3DE</td>\n",
       "      <td>0</td>\n",
       "      <td>-</td>\n",
       "      <td>-</td>\n",
       "      <td>waterview</td>\n",
       "      <td>https://www.zoopla.co.uk/for-sale/details/6678...</td>\n",
       "      <td>25000</td>\n",
       "      <td>75700</td>\n",
       "    </tr>\n",
       "    <tr>\n",
       "      <th>1</th>\n",
       "      <td>Congreve Street</td>\n",
       "      <td>3</td>\n",
       "      <td>2</td>\n",
       "      <td>1</td>\n",
       "      <td>525000</td>\n",
       "      <td>897</td>\n",
       "      <td>SE17 1TG</td>\n",
       "      <td>85</td>\n",
       "      <td>c</td>\n",
       "      <td>-</td>\n",
       "      <td>foxtons</td>\n",
       "      <td>https://www.zoopla.co.uk/for-sale/details/6682...</td>\n",
       "      <td>20000</td>\n",
       "      <td>59600</td>\n",
       "    </tr>\n",
       "    <tr>\n",
       "      <th>2</th>\n",
       "      <td>Baltic Place</td>\n",
       "      <td>2</td>\n",
       "      <td>1</td>\n",
       "      <td>0</td>\n",
       "      <td>550000</td>\n",
       "      <td>833</td>\n",
       "      <td>N1 5AQ</td>\n",
       "      <td>112</td>\n",
       "      <td>d</td>\n",
       "      <td>3000</td>\n",
       "      <td>stirling ackroyd</td>\n",
       "      <td>https://www.rightmove.co.uk/properties/8644644...</td>\n",
       "      <td>5000</td>\n",
       "      <td>52800</td>\n",
       "    </tr>\n",
       "    <tr>\n",
       "      <th>3</th>\n",
       "      <td>Sutherland Avenue</td>\n",
       "      <td>2</td>\n",
       "      <td>1</td>\n",
       "      <td>1</td>\n",
       "      <td>550000</td>\n",
       "      <td>565</td>\n",
       "      <td>W9 2JD</td>\n",
       "      <td>0</td>\n",
       "      <td>-</td>\n",
       "      <td>-</td>\n",
       "      <td>dexters</td>\n",
       "      <td>https://www.rightmove.co.uk/properties/1459670...</td>\n",
       "      <td>10000</td>\n",
       "      <td>64400</td>\n",
       "    </tr>\n",
       "    <tr>\n",
       "      <th>4</th>\n",
       "      <td>Lancaster West</td>\n",
       "      <td>2</td>\n",
       "      <td>2</td>\n",
       "      <td>0</td>\n",
       "      <td>500000</td>\n",
       "      <td>668</td>\n",
       "      <td>W11 4AT</td>\n",
       "      <td>90</td>\n",
       "      <td>-</td>\n",
       "      <td>2200</td>\n",
       "      <td>winkworth</td>\n",
       "      <td>https://www.rightmove.co.uk/properties/1457131...</td>\n",
       "      <td>8000</td>\n",
       "      <td>69600</td>\n",
       "    </tr>\n",
       "    <tr>\n",
       "      <th>5</th>\n",
       "      <td>London Terrace Hoxton</td>\n",
       "      <td>2</td>\n",
       "      <td>1</td>\n",
       "      <td>0</td>\n",
       "      <td>480000</td>\n",
       "      <td>610</td>\n",
       "      <td>E2 7SQ</td>\n",
       "      <td>-</td>\n",
       "      <td>-</td>\n",
       "      <td>-</td>\n",
       "      <td>dexters</td>\n",
       "      <td>https://www.dexters.co.uk/property-for-sale/fl...</td>\n",
       "      <td>10000</td>\n",
       "      <td>54700</td>\n",
       "    </tr>\n",
       "    <tr>\n",
       "      <th>6</th>\n",
       "      <td>Royal Oak Court</td>\n",
       "      <td>2</td>\n",
       "      <td>1</td>\n",
       "      <td>1</td>\n",
       "      <td>550000</td>\n",
       "      <td>670</td>\n",
       "      <td>N1 6ES</td>\n",
       "      <td>84</td>\n",
       "      <td>b</td>\n",
       "      <td>1883</td>\n",
       "      <td>winkworth</td>\n",
       "      <td>https://www.winkworth.co.uk/properties/sales/r...</td>\n",
       "      <td>10000</td>\n",
       "      <td>67600</td>\n",
       "    </tr>\n",
       "    <tr>\n",
       "      <th>7</th>\n",
       "      <td>Maygood Street</td>\n",
       "      <td>2</td>\n",
       "      <td>1</td>\n",
       "      <td>0</td>\n",
       "      <td>450000</td>\n",
       "      <td>506</td>\n",
       "      <td>N1 0HB</td>\n",
       "      <td>959</td>\n",
       "      <td>-</td>\n",
       "      <td>-</td>\n",
       "      <td>winkworth</td>\n",
       "      <td>https://www.winkworth.co.uk/properties/sales/m...</td>\n",
       "      <td>25000</td>\n",
       "      <td>69900</td>\n",
       "    </tr>\n",
       "  </tbody>\n",
       "</table>\n",
       "</div>"
      ],
      "text/plain": [
       "                    name  beds  wc  garden   price  area_sft  location  \\\n",
       "0        Purbrook Estate     3   1       0  475000       750   SE1 3DE   \n",
       "1        Congreve Street     3   2       1  525000       897  SE17 1TG   \n",
       "2           Baltic Place     2   1       0  550000       833    N1 5AQ   \n",
       "3      Sutherland Avenue     2   1       1  550000       565    W9 2JD   \n",
       "4         Lancaster West     2   2       0  500000       668   W11 4AT   \n",
       "5  London Terrace Hoxton     2   1       0  480000       610    E2 7SQ   \n",
       "6        Royal Oak Court     2   1       1  550000       670    N1 6ES   \n",
       "7         Maygood Street     2   1       0  450000       506    N1 0HB   \n",
       "\n",
       "  leasehold ctax_band service_charge            agency  \\\n",
       "0         0         -              -         waterview   \n",
       "1        85         c              -           foxtons   \n",
       "2       112         d           3000  stirling ackroyd   \n",
       "3         0         -              -           dexters   \n",
       "4        90         -           2200         winkworth   \n",
       "5         -         -              -           dexters   \n",
       "6        84         b           1883         winkworth   \n",
       "7       959         -              -         winkworth   \n",
       "\n",
       "                                                 URL  reno_cost  yearly_rev  \n",
       "0  https://www.zoopla.co.uk/for-sale/details/6678...      25000       75700  \n",
       "1  https://www.zoopla.co.uk/for-sale/details/6682...      20000       59600  \n",
       "2  https://www.rightmove.co.uk/properties/8644644...       5000       52800  \n",
       "3  https://www.rightmove.co.uk/properties/1459670...      10000       64400  \n",
       "4  https://www.rightmove.co.uk/properties/1457131...       8000       69600  \n",
       "5  https://www.dexters.co.uk/property-for-sale/fl...      10000       54700  \n",
       "6  https://www.winkworth.co.uk/properties/sales/r...      10000       67600  \n",
       "7  https://www.winkworth.co.uk/properties/sales/m...      25000       69900  "
      ]
     },
     "execution_count": 21,
     "metadata": {},
     "output_type": "execute_result"
    }
   ],
   "source": [
    "df = pd.read_csv('data/raw_data/property_search.csv')\n",
    "df"
   ]
  },
  {
   "cell_type": "code",
   "execution_count": 22,
   "metadata": {},
   "outputs": [],
   "source": [
    "base_url = 'https://api.postcodes.io/postcodes'\n",
    "params = {\n",
    "  \"postcodes\" : list(df.location.unique())\n",
    "}\n",
    "\n",
    "# Make a GET request to the API\n",
    "response = requests.post(base_url, json=params).json()\n",
    "\n",
    "lat_list = []\n",
    "lon_list = []\n",
    "\n",
    "for index, postcode in enumerate(df.location.unique()):\n",
    "    lon_list.append(response['result'][index]['result']['longitude'])\n",
    "    lat_list.append(response['result'][index]['result']['latitude'])"
   ]
  },
  {
   "cell_type": "code",
   "execution_count": 23,
   "metadata": {},
   "outputs": [
    {
     "data": {
      "text/html": [
       "<div>\n",
       "<style scoped>\n",
       "    .dataframe tbody tr th:only-of-type {\n",
       "        vertical-align: middle;\n",
       "    }\n",
       "\n",
       "    .dataframe tbody tr th {\n",
       "        vertical-align: top;\n",
       "    }\n",
       "\n",
       "    .dataframe thead th {\n",
       "        text-align: right;\n",
       "    }\n",
       "</style>\n",
       "<table border=\"1\" class=\"dataframe\">\n",
       "  <thead>\n",
       "    <tr style=\"text-align: right;\">\n",
       "      <th></th>\n",
       "      <th>name</th>\n",
       "      <th>beds</th>\n",
       "      <th>wc</th>\n",
       "      <th>garden</th>\n",
       "      <th>price</th>\n",
       "      <th>area_sft</th>\n",
       "      <th>location</th>\n",
       "      <th>leasehold</th>\n",
       "      <th>ctax_band</th>\n",
       "      <th>service_charge</th>\n",
       "      <th>agency</th>\n",
       "      <th>URL</th>\n",
       "      <th>reno_cost</th>\n",
       "      <th>yearly_rev</th>\n",
       "      <th>lat</th>\n",
       "      <th>lon</th>\n",
       "    </tr>\n",
       "  </thead>\n",
       "  <tbody>\n",
       "    <tr>\n",
       "      <th>0</th>\n",
       "      <td>Purbrook Estate</td>\n",
       "      <td>3</td>\n",
       "      <td>1</td>\n",
       "      <td>0</td>\n",
       "      <td>475000</td>\n",
       "      <td>750</td>\n",
       "      <td>SE1 3DE</td>\n",
       "      <td>0</td>\n",
       "      <td>-</td>\n",
       "      <td>-</td>\n",
       "      <td>waterview</td>\n",
       "      <td>https://www.zoopla.co.uk/for-sale/details/6678...</td>\n",
       "      <td>25000</td>\n",
       "      <td>75700</td>\n",
       "      <td>51.498920</td>\n",
       "      <td>-0.077847</td>\n",
       "    </tr>\n",
       "    <tr>\n",
       "      <th>1</th>\n",
       "      <td>Congreve Street</td>\n",
       "      <td>3</td>\n",
       "      <td>2</td>\n",
       "      <td>1</td>\n",
       "      <td>525000</td>\n",
       "      <td>897</td>\n",
       "      <td>SE17 1TG</td>\n",
       "      <td>85</td>\n",
       "      <td>c</td>\n",
       "      <td>-</td>\n",
       "      <td>foxtons</td>\n",
       "      <td>https://www.zoopla.co.uk/for-sale/details/6682...</td>\n",
       "      <td>20000</td>\n",
       "      <td>59600</td>\n",
       "      <td>51.491655</td>\n",
       "      <td>-0.085024</td>\n",
       "    </tr>\n",
       "    <tr>\n",
       "      <th>2</th>\n",
       "      <td>Baltic Place</td>\n",
       "      <td>2</td>\n",
       "      <td>1</td>\n",
       "      <td>0</td>\n",
       "      <td>550000</td>\n",
       "      <td>833</td>\n",
       "      <td>N1 5AQ</td>\n",
       "      <td>112</td>\n",
       "      <td>d</td>\n",
       "      <td>3000</td>\n",
       "      <td>stirling ackroyd</td>\n",
       "      <td>https://www.rightmove.co.uk/properties/8644644...</td>\n",
       "      <td>5000</td>\n",
       "      <td>52800</td>\n",
       "      <td>51.536710</td>\n",
       "      <td>-0.077481</td>\n",
       "    </tr>\n",
       "    <tr>\n",
       "      <th>3</th>\n",
       "      <td>Sutherland Avenue</td>\n",
       "      <td>2</td>\n",
       "      <td>1</td>\n",
       "      <td>1</td>\n",
       "      <td>550000</td>\n",
       "      <td>565</td>\n",
       "      <td>W9 2JD</td>\n",
       "      <td>0</td>\n",
       "      <td>-</td>\n",
       "      <td>-</td>\n",
       "      <td>dexters</td>\n",
       "      <td>https://www.rightmove.co.uk/properties/1459670...</td>\n",
       "      <td>10000</td>\n",
       "      <td>64400</td>\n",
       "      <td>51.524157</td>\n",
       "      <td>-0.188245</td>\n",
       "    </tr>\n",
       "    <tr>\n",
       "      <th>4</th>\n",
       "      <td>Lancaster West</td>\n",
       "      <td>2</td>\n",
       "      <td>2</td>\n",
       "      <td>0</td>\n",
       "      <td>500000</td>\n",
       "      <td>668</td>\n",
       "      <td>W11 4AT</td>\n",
       "      <td>90</td>\n",
       "      <td>-</td>\n",
       "      <td>2200</td>\n",
       "      <td>winkworth</td>\n",
       "      <td>https://www.rightmove.co.uk/properties/1457131...</td>\n",
       "      <td>8000</td>\n",
       "      <td>69600</td>\n",
       "      <td>51.512468</td>\n",
       "      <td>-0.215889</td>\n",
       "    </tr>\n",
       "  </tbody>\n",
       "</table>\n",
       "</div>"
      ],
      "text/plain": [
       "                name  beds  wc  garden   price  area_sft  location leasehold  \\\n",
       "0    Purbrook Estate     3   1       0  475000       750   SE1 3DE         0   \n",
       "1    Congreve Street     3   2       1  525000       897  SE17 1TG        85   \n",
       "2       Baltic Place     2   1       0  550000       833    N1 5AQ       112   \n",
       "3  Sutherland Avenue     2   1       1  550000       565    W9 2JD         0   \n",
       "4     Lancaster West     2   2       0  500000       668   W11 4AT        90   \n",
       "\n",
       "  ctax_band service_charge            agency  \\\n",
       "0         -              -         waterview   \n",
       "1         c              -           foxtons   \n",
       "2         d           3000  stirling ackroyd   \n",
       "3         -              -           dexters   \n",
       "4         -           2200         winkworth   \n",
       "\n",
       "                                                 URL  reno_cost  yearly_rev  \\\n",
       "0  https://www.zoopla.co.uk/for-sale/details/6678...      25000       75700   \n",
       "1  https://www.zoopla.co.uk/for-sale/details/6682...      20000       59600   \n",
       "2  https://www.rightmove.co.uk/properties/8644644...       5000       52800   \n",
       "3  https://www.rightmove.co.uk/properties/1459670...      10000       64400   \n",
       "4  https://www.rightmove.co.uk/properties/1457131...       8000       69600   \n",
       "\n",
       "         lat       lon  \n",
       "0  51.498920 -0.077847  \n",
       "1  51.491655 -0.085024  \n",
       "2  51.536710 -0.077481  \n",
       "3  51.524157 -0.188245  \n",
       "4  51.512468 -0.215889  "
      ]
     },
     "execution_count": 23,
     "metadata": {},
     "output_type": "execute_result"
    }
   ],
   "source": [
    "df['lat'] = lat_list\n",
    "df['lon'] = lon_list\n",
    "# df.to_csv('data/processed_data/processed_property_search.csv',index=False)\n",
    "df.head()"
   ]
  },
  {
   "cell_type": "code",
   "execution_count": 24,
   "metadata": {},
   "outputs": [
    {
     "data": {
      "application/vnd.plotly.v1+json": {
       "config": {
        "plotlyServerURL": "https://plot.ly"
       },
       "data": [
        {
         "customdata": [
          [
           "Purbrook Estate",
           51.49892,
           -0.077847,
           3,
           1,
           0,
           750,
           475000,
           "waterview",
           25000,
           75700
          ],
          [
           "Congreve Street",
           51.491655,
           -0.085024,
           3,
           2,
           1,
           897,
           525000,
           "foxtons",
           20000,
           59600
          ],
          [
           "Baltic Place",
           51.53671,
           -0.077481,
           2,
           1,
           0,
           833,
           550000,
           "stirling ackroyd",
           5000,
           52800
          ],
          [
           "Sutherland Avenue",
           51.524157,
           -0.188245,
           2,
           1,
           1,
           565,
           550000,
           "dexters",
           10000,
           64400
          ],
          [
           "Lancaster West",
           51.512468,
           -0.215889,
           2,
           2,
           0,
           668,
           500000,
           "winkworth",
           8000,
           69600
          ],
          [
           "London Terrace Hoxton",
           51.530816,
           -0.069007,
           2,
           1,
           0,
           610,
           480000,
           "dexters",
           10000,
           54700
          ],
          [
           "Royal Oak Court",
           51.52832,
           -0.082419,
           2,
           1,
           1,
           670,
           550000,
           "winkworth",
           10000,
           67600
          ],
          [
           "Maygood Street",
           51.534229,
           -0.111311,
           2,
           1,
           0,
           506,
           450000,
           "winkworth",
           25000,
           69900
          ]
         ],
         "hovertemplate": "name=%{customdata[0]}<br>beds=%{customdata[3]}<br>wc=%{customdata[4]}<br>garden=%{customdata[5]}<br>area_sft=%{customdata[6]}<br>price=%{customdata[7]}<br>agency=%{customdata[8]}<br>reno_cost=%{customdata[9]}<br>yearly_rev=%{customdata[10]}<extra></extra>",
         "lat": [
          51.49892,
          51.491655,
          51.53671,
          51.524157,
          51.512468,
          51.530816,
          51.52832,
          51.534229
         ],
         "legendgroup": "",
         "lon": [
          -0.077847,
          -0.085024,
          -0.077481,
          -0.188245,
          -0.215889,
          -0.069007,
          -0.082419,
          -0.111311
         ],
         "marker": {
          "color": "#636efa",
          "size": 12
         },
         "mode": "markers",
         "name": "",
         "showlegend": false,
         "subplot": "mapbox",
         "type": "scattermapbox"
        }
       ],
       "layout": {
        "legend": {
         "tracegroupgap": 0
        },
        "mapbox": {
         "center": {
          "lat": 51.519659375,
          "lon": -0.113402875
         },
         "domain": {
          "x": [
           0,
           1
          ],
          "y": [
           0,
           1
          ]
         },
         "style": "carto-positron",
         "zoom": 11.5
        },
        "margin": {
         "b": 0,
         "l": 0,
         "r": 0,
         "t": 40
        },
        "template": {
         "data": {
          "bar": [
           {
            "error_x": {
             "color": "#f2f5fa"
            },
            "error_y": {
             "color": "#f2f5fa"
            },
            "marker": {
             "line": {
              "color": "rgb(17,17,17)",
              "width": 0.5
             },
             "pattern": {
              "fillmode": "overlay",
              "size": 10,
              "solidity": 0.2
             }
            },
            "type": "bar"
           }
          ],
          "barpolar": [
           {
            "marker": {
             "line": {
              "color": "rgb(17,17,17)",
              "width": 0.5
             },
             "pattern": {
              "fillmode": "overlay",
              "size": 10,
              "solidity": 0.2
             }
            },
            "type": "barpolar"
           }
          ],
          "carpet": [
           {
            "aaxis": {
             "endlinecolor": "#A2B1C6",
             "gridcolor": "#506784",
             "linecolor": "#506784",
             "minorgridcolor": "#506784",
             "startlinecolor": "#A2B1C6"
            },
            "baxis": {
             "endlinecolor": "#A2B1C6",
             "gridcolor": "#506784",
             "linecolor": "#506784",
             "minorgridcolor": "#506784",
             "startlinecolor": "#A2B1C6"
            },
            "type": "carpet"
           }
          ],
          "choropleth": [
           {
            "colorbar": {
             "outlinewidth": 0,
             "ticks": ""
            },
            "type": "choropleth"
           }
          ],
          "contour": [
           {
            "colorbar": {
             "outlinewidth": 0,
             "ticks": ""
            },
            "colorscale": [
             [
              0,
              "#0d0887"
             ],
             [
              0.1111111111111111,
              "#46039f"
             ],
             [
              0.2222222222222222,
              "#7201a8"
             ],
             [
              0.3333333333333333,
              "#9c179e"
             ],
             [
              0.4444444444444444,
              "#bd3786"
             ],
             [
              0.5555555555555556,
              "#d8576b"
             ],
             [
              0.6666666666666666,
              "#ed7953"
             ],
             [
              0.7777777777777778,
              "#fb9f3a"
             ],
             [
              0.8888888888888888,
              "#fdca26"
             ],
             [
              1,
              "#f0f921"
             ]
            ],
            "type": "contour"
           }
          ],
          "contourcarpet": [
           {
            "colorbar": {
             "outlinewidth": 0,
             "ticks": ""
            },
            "type": "contourcarpet"
           }
          ],
          "heatmap": [
           {
            "colorbar": {
             "outlinewidth": 0,
             "ticks": ""
            },
            "colorscale": [
             [
              0,
              "#0d0887"
             ],
             [
              0.1111111111111111,
              "#46039f"
             ],
             [
              0.2222222222222222,
              "#7201a8"
             ],
             [
              0.3333333333333333,
              "#9c179e"
             ],
             [
              0.4444444444444444,
              "#bd3786"
             ],
             [
              0.5555555555555556,
              "#d8576b"
             ],
             [
              0.6666666666666666,
              "#ed7953"
             ],
             [
              0.7777777777777778,
              "#fb9f3a"
             ],
             [
              0.8888888888888888,
              "#fdca26"
             ],
             [
              1,
              "#f0f921"
             ]
            ],
            "type": "heatmap"
           }
          ],
          "heatmapgl": [
           {
            "colorbar": {
             "outlinewidth": 0,
             "ticks": ""
            },
            "colorscale": [
             [
              0,
              "#0d0887"
             ],
             [
              0.1111111111111111,
              "#46039f"
             ],
             [
              0.2222222222222222,
              "#7201a8"
             ],
             [
              0.3333333333333333,
              "#9c179e"
             ],
             [
              0.4444444444444444,
              "#bd3786"
             ],
             [
              0.5555555555555556,
              "#d8576b"
             ],
             [
              0.6666666666666666,
              "#ed7953"
             ],
             [
              0.7777777777777778,
              "#fb9f3a"
             ],
             [
              0.8888888888888888,
              "#fdca26"
             ],
             [
              1,
              "#f0f921"
             ]
            ],
            "type": "heatmapgl"
           }
          ],
          "histogram": [
           {
            "marker": {
             "pattern": {
              "fillmode": "overlay",
              "size": 10,
              "solidity": 0.2
             }
            },
            "type": "histogram"
           }
          ],
          "histogram2d": [
           {
            "colorbar": {
             "outlinewidth": 0,
             "ticks": ""
            },
            "colorscale": [
             [
              0,
              "#0d0887"
             ],
             [
              0.1111111111111111,
              "#46039f"
             ],
             [
              0.2222222222222222,
              "#7201a8"
             ],
             [
              0.3333333333333333,
              "#9c179e"
             ],
             [
              0.4444444444444444,
              "#bd3786"
             ],
             [
              0.5555555555555556,
              "#d8576b"
             ],
             [
              0.6666666666666666,
              "#ed7953"
             ],
             [
              0.7777777777777778,
              "#fb9f3a"
             ],
             [
              0.8888888888888888,
              "#fdca26"
             ],
             [
              1,
              "#f0f921"
             ]
            ],
            "type": "histogram2d"
           }
          ],
          "histogram2dcontour": [
           {
            "colorbar": {
             "outlinewidth": 0,
             "ticks": ""
            },
            "colorscale": [
             [
              0,
              "#0d0887"
             ],
             [
              0.1111111111111111,
              "#46039f"
             ],
             [
              0.2222222222222222,
              "#7201a8"
             ],
             [
              0.3333333333333333,
              "#9c179e"
             ],
             [
              0.4444444444444444,
              "#bd3786"
             ],
             [
              0.5555555555555556,
              "#d8576b"
             ],
             [
              0.6666666666666666,
              "#ed7953"
             ],
             [
              0.7777777777777778,
              "#fb9f3a"
             ],
             [
              0.8888888888888888,
              "#fdca26"
             ],
             [
              1,
              "#f0f921"
             ]
            ],
            "type": "histogram2dcontour"
           }
          ],
          "mesh3d": [
           {
            "colorbar": {
             "outlinewidth": 0,
             "ticks": ""
            },
            "type": "mesh3d"
           }
          ],
          "parcoords": [
           {
            "line": {
             "colorbar": {
              "outlinewidth": 0,
              "ticks": ""
             }
            },
            "type": "parcoords"
           }
          ],
          "pie": [
           {
            "automargin": true,
            "type": "pie"
           }
          ],
          "scatter": [
           {
            "marker": {
             "line": {
              "color": "#283442"
             }
            },
            "type": "scatter"
           }
          ],
          "scatter3d": [
           {
            "line": {
             "colorbar": {
              "outlinewidth": 0,
              "ticks": ""
             }
            },
            "marker": {
             "colorbar": {
              "outlinewidth": 0,
              "ticks": ""
             }
            },
            "type": "scatter3d"
           }
          ],
          "scattercarpet": [
           {
            "marker": {
             "colorbar": {
              "outlinewidth": 0,
              "ticks": ""
             }
            },
            "type": "scattercarpet"
           }
          ],
          "scattergeo": [
           {
            "marker": {
             "colorbar": {
              "outlinewidth": 0,
              "ticks": ""
             }
            },
            "type": "scattergeo"
           }
          ],
          "scattergl": [
           {
            "marker": {
             "line": {
              "color": "#283442"
             }
            },
            "type": "scattergl"
           }
          ],
          "scattermapbox": [
           {
            "marker": {
             "colorbar": {
              "outlinewidth": 0,
              "ticks": ""
             }
            },
            "type": "scattermapbox"
           }
          ],
          "scatterpolar": [
           {
            "marker": {
             "colorbar": {
              "outlinewidth": 0,
              "ticks": ""
             }
            },
            "type": "scatterpolar"
           }
          ],
          "scatterpolargl": [
           {
            "marker": {
             "colorbar": {
              "outlinewidth": 0,
              "ticks": ""
             }
            },
            "type": "scatterpolargl"
           }
          ],
          "scatterternary": [
           {
            "marker": {
             "colorbar": {
              "outlinewidth": 0,
              "ticks": ""
             }
            },
            "type": "scatterternary"
           }
          ],
          "surface": [
           {
            "colorbar": {
             "outlinewidth": 0,
             "ticks": ""
            },
            "colorscale": [
             [
              0,
              "#0d0887"
             ],
             [
              0.1111111111111111,
              "#46039f"
             ],
             [
              0.2222222222222222,
              "#7201a8"
             ],
             [
              0.3333333333333333,
              "#9c179e"
             ],
             [
              0.4444444444444444,
              "#bd3786"
             ],
             [
              0.5555555555555556,
              "#d8576b"
             ],
             [
              0.6666666666666666,
              "#ed7953"
             ],
             [
              0.7777777777777778,
              "#fb9f3a"
             ],
             [
              0.8888888888888888,
              "#fdca26"
             ],
             [
              1,
              "#f0f921"
             ]
            ],
            "type": "surface"
           }
          ],
          "table": [
           {
            "cells": {
             "fill": {
              "color": "#506784"
             },
             "line": {
              "color": "rgb(17,17,17)"
             }
            },
            "header": {
             "fill": {
              "color": "#2a3f5f"
             },
             "line": {
              "color": "rgb(17,17,17)"
             }
            },
            "type": "table"
           }
          ]
         },
         "layout": {
          "annotationdefaults": {
           "arrowcolor": "#f2f5fa",
           "arrowhead": 0,
           "arrowwidth": 1
          },
          "autotypenumbers": "strict",
          "coloraxis": {
           "colorbar": {
            "outlinewidth": 0,
            "ticks": ""
           }
          },
          "colorscale": {
           "diverging": [
            [
             0,
             "#8e0152"
            ],
            [
             0.1,
             "#c51b7d"
            ],
            [
             0.2,
             "#de77ae"
            ],
            [
             0.3,
             "#f1b6da"
            ],
            [
             0.4,
             "#fde0ef"
            ],
            [
             0.5,
             "#f7f7f7"
            ],
            [
             0.6,
             "#e6f5d0"
            ],
            [
             0.7,
             "#b8e186"
            ],
            [
             0.8,
             "#7fbc41"
            ],
            [
             0.9,
             "#4d9221"
            ],
            [
             1,
             "#276419"
            ]
           ],
           "sequential": [
            [
             0,
             "#0d0887"
            ],
            [
             0.1111111111111111,
             "#46039f"
            ],
            [
             0.2222222222222222,
             "#7201a8"
            ],
            [
             0.3333333333333333,
             "#9c179e"
            ],
            [
             0.4444444444444444,
             "#bd3786"
            ],
            [
             0.5555555555555556,
             "#d8576b"
            ],
            [
             0.6666666666666666,
             "#ed7953"
            ],
            [
             0.7777777777777778,
             "#fb9f3a"
            ],
            [
             0.8888888888888888,
             "#fdca26"
            ],
            [
             1,
             "#f0f921"
            ]
           ],
           "sequentialminus": [
            [
             0,
             "#0d0887"
            ],
            [
             0.1111111111111111,
             "#46039f"
            ],
            [
             0.2222222222222222,
             "#7201a8"
            ],
            [
             0.3333333333333333,
             "#9c179e"
            ],
            [
             0.4444444444444444,
             "#bd3786"
            ],
            [
             0.5555555555555556,
             "#d8576b"
            ],
            [
             0.6666666666666666,
             "#ed7953"
            ],
            [
             0.7777777777777778,
             "#fb9f3a"
            ],
            [
             0.8888888888888888,
             "#fdca26"
            ],
            [
             1,
             "#f0f921"
            ]
           ]
          },
          "colorway": [
           "#636efa",
           "#EF553B",
           "#00cc96",
           "#ab63fa",
           "#FFA15A",
           "#19d3f3",
           "#FF6692",
           "#B6E880",
           "#FF97FF",
           "#FECB52"
          ],
          "font": {
           "color": "#f2f5fa"
          },
          "geo": {
           "bgcolor": "rgb(17,17,17)",
           "lakecolor": "rgb(17,17,17)",
           "landcolor": "rgb(17,17,17)",
           "showlakes": true,
           "showland": true,
           "subunitcolor": "#506784"
          },
          "hoverlabel": {
           "align": "left"
          },
          "hovermode": "closest",
          "mapbox": {
           "style": "dark"
          },
          "paper_bgcolor": "rgb(17,17,17)",
          "plot_bgcolor": "rgb(17,17,17)",
          "polar": {
           "angularaxis": {
            "gridcolor": "#506784",
            "linecolor": "#506784",
            "ticks": ""
           },
           "bgcolor": "rgb(17,17,17)",
           "radialaxis": {
            "gridcolor": "#506784",
            "linecolor": "#506784",
            "ticks": ""
           }
          },
          "scene": {
           "xaxis": {
            "backgroundcolor": "rgb(17,17,17)",
            "gridcolor": "#506784",
            "gridwidth": 2,
            "linecolor": "#506784",
            "showbackground": true,
            "ticks": "",
            "zerolinecolor": "#C8D4E3"
           },
           "yaxis": {
            "backgroundcolor": "rgb(17,17,17)",
            "gridcolor": "#506784",
            "gridwidth": 2,
            "linecolor": "#506784",
            "showbackground": true,
            "ticks": "",
            "zerolinecolor": "#C8D4E3"
           },
           "zaxis": {
            "backgroundcolor": "rgb(17,17,17)",
            "gridcolor": "#506784",
            "gridwidth": 2,
            "linecolor": "#506784",
            "showbackground": true,
            "ticks": "",
            "zerolinecolor": "#C8D4E3"
           }
          },
          "shapedefaults": {
           "line": {
            "color": "#f2f5fa"
           }
          },
          "sliderdefaults": {
           "bgcolor": "#C8D4E3",
           "bordercolor": "rgb(17,17,17)",
           "borderwidth": 1,
           "tickwidth": 0
          },
          "ternary": {
           "aaxis": {
            "gridcolor": "#506784",
            "linecolor": "#506784",
            "ticks": ""
           },
           "baxis": {
            "gridcolor": "#506784",
            "linecolor": "#506784",
            "ticks": ""
           },
           "bgcolor": "rgb(17,17,17)",
           "caxis": {
            "gridcolor": "#506784",
            "linecolor": "#506784",
            "ticks": ""
           }
          },
          "title": {
           "x": 0.05
          },
          "updatemenudefaults": {
           "bgcolor": "#506784",
           "borderwidth": 0
          },
          "xaxis": {
           "automargin": true,
           "gridcolor": "#283442",
           "linecolor": "#506784",
           "ticks": "",
           "title": {
            "standoff": 15
           },
           "zerolinecolor": "#283442",
           "zerolinewidth": 2
          },
          "yaxis": {
           "automargin": true,
           "gridcolor": "#283442",
           "linecolor": "#506784",
           "ticks": "",
           "title": {
            "standoff": 15
           },
           "zerolinecolor": "#283442",
           "zerolinewidth": 2
          }
         }
        },
        "title": {
         "text": "Monk Property Tracker 🙉"
        }
       }
      }
     },
     "metadata": {},
     "output_type": "display_data"
    }
   ],
   "source": [
    "fig = px.scatter_mapbox(\n",
    "    df,\n",
    "    lat='lat',\n",
    "    lon='lon',\n",
    "    mapbox_style='carto-positron',\n",
    "    zoom=11.5,\n",
    "    hover_data={'name': True,\n",
    "    'lat': False,\n",
    "    'lon': False,\n",
    "    'beds': True,\n",
    "    'wc': True,\n",
    "    'garden': True,\n",
    "    'area_sft': True,\n",
    "    'price': True,\n",
    "    'agency': True,\n",
    "    'reno_cost': True,\n",
    "    'yearly_rev': True\n",
    "    }  # Exclude lat and lon from hover\n",
    "    )\n",
    "\n",
    "\n",
    "fig.update_traces(marker=dict(size=12))\n",
    "\n",
    "fig.update_layout(\n",
    "    margin={\"r\":0,\"t\":40,\"l\":0,\"b\":0},\n",
    "    title=\"Monk Property Tracker 🙉\"\n",
    ")\n",
    "# fig.show(renderer=\"browser\")\n",
    "fig.show()"
   ]
  },
  {
   "cell_type": "code",
   "execution_count": 25,
   "metadata": {},
   "outputs": [
    {
     "data": {
      "text/html": [
       "<div style=\"width:100%;\"><div style=\"position:relative;width:100%;height:0;padding-bottom:60%;\"><span style=\"color:#565656\">Make this Notebook Trusted to load map: File -> Trust Notebook</span><iframe srcdoc=\"&lt;!DOCTYPE html&gt;\n",
       "&lt;head&gt;    \n",
       "    &lt;meta http-equiv=&quot;content-type&quot; content=&quot;text/html; charset=UTF-8&quot; /&gt;\n",
       "    \n",
       "        &lt;script&gt;\n",
       "            L_NO_TOUCH = false;\n",
       "            L_DISABLE_3D = false;\n",
       "        &lt;/script&gt;\n",
       "    \n",
       "    &lt;style&gt;html, body {width: 100%;height: 100%;margin: 0;padding: 0;}&lt;/style&gt;\n",
       "    &lt;style&gt;#map {position:absolute;top:0;bottom:0;right:0;left:0;}&lt;/style&gt;\n",
       "    &lt;script src=&quot;https://cdn.jsdelivr.net/npm/leaflet@1.6.0/dist/leaflet.js&quot;&gt;&lt;/script&gt;\n",
       "    &lt;script src=&quot;https://code.jquery.com/jquery-1.12.4.min.js&quot;&gt;&lt;/script&gt;\n",
       "    &lt;script src=&quot;https://maxcdn.bootstrapcdn.com/bootstrap/3.2.0/js/bootstrap.min.js&quot;&gt;&lt;/script&gt;\n",
       "    &lt;script src=&quot;https://cdnjs.cloudflare.com/ajax/libs/Leaflet.awesome-markers/2.0.2/leaflet.awesome-markers.js&quot;&gt;&lt;/script&gt;\n",
       "    &lt;link rel=&quot;stylesheet&quot; href=&quot;https://cdn.jsdelivr.net/npm/leaflet@1.6.0/dist/leaflet.css&quot;/&gt;\n",
       "    &lt;link rel=&quot;stylesheet&quot; href=&quot;https://maxcdn.bootstrapcdn.com/bootstrap/3.2.0/css/bootstrap.min.css&quot;/&gt;\n",
       "    &lt;link rel=&quot;stylesheet&quot; href=&quot;https://maxcdn.bootstrapcdn.com/bootstrap/3.2.0/css/bootstrap-theme.min.css&quot;/&gt;\n",
       "    &lt;link rel=&quot;stylesheet&quot; href=&quot;https://maxcdn.bootstrapcdn.com/font-awesome/4.6.3/css/font-awesome.min.css&quot;/&gt;\n",
       "    &lt;link rel=&quot;stylesheet&quot; href=&quot;https://cdnjs.cloudflare.com/ajax/libs/Leaflet.awesome-markers/2.0.2/leaflet.awesome-markers.css&quot;/&gt;\n",
       "    &lt;link rel=&quot;stylesheet&quot; href=&quot;https://cdn.jsdelivr.net/gh/python-visualization/folium/folium/templates/leaflet.awesome.rotate.min.css&quot;/&gt;\n",
       "    \n",
       "            &lt;meta name=&quot;viewport&quot; content=&quot;width=device-width,\n",
       "                initial-scale=1.0, maximum-scale=1.0, user-scalable=no&quot; /&gt;\n",
       "            &lt;style&gt;\n",
       "                #map_cb66b9ca4b0ecd93fddc0a61a8a55f7b {\n",
       "                    position: relative;\n",
       "                    width: 100.0%;\n",
       "                    height: 100.0%;\n",
       "                    left: 0.0%;\n",
       "                    top: 0.0%;\n",
       "                }\n",
       "            &lt;/style&gt;\n",
       "        \n",
       "    &lt;script src=&quot;https://cdnjs.cloudflare.com/ajax/libs/leaflet.markercluster/1.1.0/leaflet.markercluster.js&quot;&gt;&lt;/script&gt;\n",
       "    &lt;link rel=&quot;stylesheet&quot; href=&quot;https://cdnjs.cloudflare.com/ajax/libs/leaflet.markercluster/1.1.0/MarkerCluster.css&quot;/&gt;\n",
       "    &lt;link rel=&quot;stylesheet&quot; href=&quot;https://cdnjs.cloudflare.com/ajax/libs/leaflet.markercluster/1.1.0/MarkerCluster.Default.css&quot;/&gt;\n",
       "&lt;/head&gt;\n",
       "&lt;body&gt;    \n",
       "    \n",
       "            &lt;div class=&quot;folium-map&quot; id=&quot;map_cb66b9ca4b0ecd93fddc0a61a8a55f7b&quot; &gt;&lt;/div&gt;\n",
       "        \n",
       "&lt;/body&gt;\n",
       "&lt;script&gt;    \n",
       "    \n",
       "            var map_cb66b9ca4b0ecd93fddc0a61a8a55f7b = L.map(\n",
       "                &quot;map_cb66b9ca4b0ecd93fddc0a61a8a55f7b&quot;,\n",
       "                {\n",
       "                    center: [51.519659375, -0.113402875],\n",
       "                    crs: L.CRS.EPSG3857,\n",
       "                    zoom: 11.5,\n",
       "                    zoomControl: true,\n",
       "                    preferCanvas: false,\n",
       "                }\n",
       "            );\n",
       "\n",
       "            \n",
       "\n",
       "        \n",
       "    \n",
       "            var tile_layer_d1e8737454779e1b5f362ec1b06813f0 = L.tileLayer(\n",
       "                &quot;https://{s}.tile.openstreetmap.org/{z}/{x}/{y}.png&quot;,\n",
       "                {&quot;attribution&quot;: &quot;Data by \\u0026copy; \\u003ca href=\\&quot;http://openstreetmap.org\\&quot;\\u003eOpenStreetMap\\u003c/a\\u003e, under \\u003ca href=\\&quot;http://www.openstreetmap.org/copyright\\&quot;\\u003eODbL\\u003c/a\\u003e.&quot;, &quot;detectRetina&quot;: false, &quot;maxNativeZoom&quot;: 18, &quot;maxZoom&quot;: 18, &quot;minZoom&quot;: 0, &quot;noWrap&quot;: false, &quot;opacity&quot;: 1, &quot;subdomains&quot;: &quot;abc&quot;, &quot;tms&quot;: false}\n",
       "            ).addTo(map_cb66b9ca4b0ecd93fddc0a61a8a55f7b);\n",
       "        \n",
       "    \n",
       "            var marker_cluster_cdbc777210ab7f9ad4e053c955307ab1 = L.markerClusterGroup(\n",
       "                {}\n",
       "            );\n",
       "            map_cb66b9ca4b0ecd93fddc0a61a8a55f7b.addLayer(marker_cluster_cdbc777210ab7f9ad4e053c955307ab1);\n",
       "        \n",
       "    \n",
       "            var marker_af67f1f559097afacba5e1b1115d0af1 = L.marker(\n",
       "                [51.49892, -0.077847],\n",
       "                {}\n",
       "            ).addTo(marker_cluster_cdbc777210ab7f9ad4e053c955307ab1);\n",
       "        \n",
       "    \n",
       "        var popup_c8248a588e9eb18e3a33ccd443fc9f14 = L.popup({&quot;maxWidth&quot;: &quot;100%&quot;});\n",
       "\n",
       "        \n",
       "            var html_a372eef418bf4124d0cf66b18baa1cfd = $(`&lt;div id=&quot;html_a372eef418bf4124d0cf66b18baa1cfd&quot; style=&quot;width: 100.0%; height: 100.0%;&quot;&gt;     &lt;b&gt;Purbrook Estate&lt;/b&gt;&lt;br&gt;     Beds: 3&lt;br&gt;     WC: 1&lt;br&gt;     Garden: 0&lt;br&gt;     Area (sqft): 750&lt;br&gt;     Price: 475000&lt;br&gt;     Agency: waterview&lt;br&gt;     Renovation Cost: 25000&lt;br&gt;     Yearly Revenue: 75700&lt;br&gt;     &lt;img src=&#x27;https://picsum.photos/200/300&#x27;, width=&quot;200&quot;&gt;      &lt;/div&gt;`)[0];\n",
       "            popup_c8248a588e9eb18e3a33ccd443fc9f14.setContent(html_a372eef418bf4124d0cf66b18baa1cfd);\n",
       "        \n",
       "\n",
       "        marker_af67f1f559097afacba5e1b1115d0af1.bindPopup(popup_c8248a588e9eb18e3a33ccd443fc9f14)\n",
       "        ;\n",
       "\n",
       "        \n",
       "    \n",
       "    \n",
       "            var marker_1472e35003c08cd5ffd4cf7b98474cb9 = L.marker(\n",
       "                [51.491655, -0.085024],\n",
       "                {}\n",
       "            ).addTo(marker_cluster_cdbc777210ab7f9ad4e053c955307ab1);\n",
       "        \n",
       "    \n",
       "        var popup_c5353891a1c2699b40af95ef15be7d39 = L.popup({&quot;maxWidth&quot;: &quot;100%&quot;});\n",
       "\n",
       "        \n",
       "            var html_8947ae8cec1330c923b82086462c5130 = $(`&lt;div id=&quot;html_8947ae8cec1330c923b82086462c5130&quot; style=&quot;width: 100.0%; height: 100.0%;&quot;&gt;     &lt;b&gt;Congreve Street&lt;/b&gt;&lt;br&gt;     Beds: 3&lt;br&gt;     WC: 2&lt;br&gt;     Garden: 1&lt;br&gt;     Area (sqft): 897&lt;br&gt;     Price: 525000&lt;br&gt;     Agency: foxtons&lt;br&gt;     Renovation Cost: 20000&lt;br&gt;     Yearly Revenue: 59600&lt;br&gt;     &lt;img src=&#x27;https://picsum.photos/200/300&#x27;, width=&quot;200&quot;&gt;      &lt;/div&gt;`)[0];\n",
       "            popup_c5353891a1c2699b40af95ef15be7d39.setContent(html_8947ae8cec1330c923b82086462c5130);\n",
       "        \n",
       "\n",
       "        marker_1472e35003c08cd5ffd4cf7b98474cb9.bindPopup(popup_c5353891a1c2699b40af95ef15be7d39)\n",
       "        ;\n",
       "\n",
       "        \n",
       "    \n",
       "    \n",
       "            var marker_2ccee66c01b4de3f7bad0be207528027 = L.marker(\n",
       "                [51.53671, -0.077481],\n",
       "                {}\n",
       "            ).addTo(marker_cluster_cdbc777210ab7f9ad4e053c955307ab1);\n",
       "        \n",
       "    \n",
       "        var popup_2584f05bb8e75ac63a9575f5ceaf6372 = L.popup({&quot;maxWidth&quot;: &quot;100%&quot;});\n",
       "\n",
       "        \n",
       "            var html_fc81f2c9742a131301816492b147473b = $(`&lt;div id=&quot;html_fc81f2c9742a131301816492b147473b&quot; style=&quot;width: 100.0%; height: 100.0%;&quot;&gt;     &lt;b&gt;Baltic Place&lt;/b&gt;&lt;br&gt;     Beds: 2&lt;br&gt;     WC: 1&lt;br&gt;     Garden: 0&lt;br&gt;     Area (sqft): 833&lt;br&gt;     Price: 550000&lt;br&gt;     Agency: stirling ackroyd&lt;br&gt;     Renovation Cost: 5000&lt;br&gt;     Yearly Revenue: 52800&lt;br&gt;     &lt;img src=&#x27;https://picsum.photos/200/300&#x27;, width=&quot;200&quot;&gt;      &lt;/div&gt;`)[0];\n",
       "            popup_2584f05bb8e75ac63a9575f5ceaf6372.setContent(html_fc81f2c9742a131301816492b147473b);\n",
       "        \n",
       "\n",
       "        marker_2ccee66c01b4de3f7bad0be207528027.bindPopup(popup_2584f05bb8e75ac63a9575f5ceaf6372)\n",
       "        ;\n",
       "\n",
       "        \n",
       "    \n",
       "    \n",
       "            var marker_e9f271e9f1338c6a90a73c749b57c2c2 = L.marker(\n",
       "                [51.524157, -0.188245],\n",
       "                {}\n",
       "            ).addTo(marker_cluster_cdbc777210ab7f9ad4e053c955307ab1);\n",
       "        \n",
       "    \n",
       "        var popup_7e5ca7e7769407e0e95251c96bbd9925 = L.popup({&quot;maxWidth&quot;: &quot;100%&quot;});\n",
       "\n",
       "        \n",
       "            var html_6a00b6f698614f84e429560459c647de = $(`&lt;div id=&quot;html_6a00b6f698614f84e429560459c647de&quot; style=&quot;width: 100.0%; height: 100.0%;&quot;&gt;     &lt;b&gt;Sutherland Avenue&lt;/b&gt;&lt;br&gt;     Beds: 2&lt;br&gt;     WC: 1&lt;br&gt;     Garden: 1&lt;br&gt;     Area (sqft): 565&lt;br&gt;     Price: 550000&lt;br&gt;     Agency: dexters&lt;br&gt;     Renovation Cost: 10000&lt;br&gt;     Yearly Revenue: 64400&lt;br&gt;     &lt;img src=&#x27;https://picsum.photos/200/300&#x27;, width=&quot;200&quot;&gt;      &lt;/div&gt;`)[0];\n",
       "            popup_7e5ca7e7769407e0e95251c96bbd9925.setContent(html_6a00b6f698614f84e429560459c647de);\n",
       "        \n",
       "\n",
       "        marker_e9f271e9f1338c6a90a73c749b57c2c2.bindPopup(popup_7e5ca7e7769407e0e95251c96bbd9925)\n",
       "        ;\n",
       "\n",
       "        \n",
       "    \n",
       "    \n",
       "            var marker_23b42e8cc9b594b4a7d1b78e178e6d49 = L.marker(\n",
       "                [51.512468, -0.215889],\n",
       "                {}\n",
       "            ).addTo(marker_cluster_cdbc777210ab7f9ad4e053c955307ab1);\n",
       "        \n",
       "    \n",
       "        var popup_4a664ca325cf9bfbd109e6703b6ff95d = L.popup({&quot;maxWidth&quot;: &quot;100%&quot;});\n",
       "\n",
       "        \n",
       "            var html_289299912cf9f45e504e23a148556e40 = $(`&lt;div id=&quot;html_289299912cf9f45e504e23a148556e40&quot; style=&quot;width: 100.0%; height: 100.0%;&quot;&gt;     &lt;b&gt;Lancaster West&lt;/b&gt;&lt;br&gt;     Beds: 2&lt;br&gt;     WC: 2&lt;br&gt;     Garden: 0&lt;br&gt;     Area (sqft): 668&lt;br&gt;     Price: 500000&lt;br&gt;     Agency: winkworth&lt;br&gt;     Renovation Cost: 8000&lt;br&gt;     Yearly Revenue: 69600&lt;br&gt;     &lt;img src=&#x27;https://picsum.photos/200/300&#x27;, width=&quot;200&quot;&gt;      &lt;/div&gt;`)[0];\n",
       "            popup_4a664ca325cf9bfbd109e6703b6ff95d.setContent(html_289299912cf9f45e504e23a148556e40);\n",
       "        \n",
       "\n",
       "        marker_23b42e8cc9b594b4a7d1b78e178e6d49.bindPopup(popup_4a664ca325cf9bfbd109e6703b6ff95d)\n",
       "        ;\n",
       "\n",
       "        \n",
       "    \n",
       "    \n",
       "            var marker_2209f31fed6a9fa704e66b844d2db563 = L.marker(\n",
       "                [51.530816, -0.069007],\n",
       "                {}\n",
       "            ).addTo(marker_cluster_cdbc777210ab7f9ad4e053c955307ab1);\n",
       "        \n",
       "    \n",
       "        var popup_df313bbed4d5bb89fad05c0a92dc3917 = L.popup({&quot;maxWidth&quot;: &quot;100%&quot;});\n",
       "\n",
       "        \n",
       "            var html_b48ec1b3fc1b27b454aa8614eef9c716 = $(`&lt;div id=&quot;html_b48ec1b3fc1b27b454aa8614eef9c716&quot; style=&quot;width: 100.0%; height: 100.0%;&quot;&gt;     &lt;b&gt;London Terrace Hoxton&lt;/b&gt;&lt;br&gt;     Beds: 2&lt;br&gt;     WC: 1&lt;br&gt;     Garden: 0&lt;br&gt;     Area (sqft): 610&lt;br&gt;     Price: 480000&lt;br&gt;     Agency: dexters&lt;br&gt;     Renovation Cost: 10000&lt;br&gt;     Yearly Revenue: 54700&lt;br&gt;     &lt;img src=&#x27;https://picsum.photos/200/300&#x27;, width=&quot;200&quot;&gt;      &lt;/div&gt;`)[0];\n",
       "            popup_df313bbed4d5bb89fad05c0a92dc3917.setContent(html_b48ec1b3fc1b27b454aa8614eef9c716);\n",
       "        \n",
       "\n",
       "        marker_2209f31fed6a9fa704e66b844d2db563.bindPopup(popup_df313bbed4d5bb89fad05c0a92dc3917)\n",
       "        ;\n",
       "\n",
       "        \n",
       "    \n",
       "    \n",
       "            var marker_1843578d8397688851624e48ce777a46 = L.marker(\n",
       "                [51.52832, -0.082419],\n",
       "                {}\n",
       "            ).addTo(marker_cluster_cdbc777210ab7f9ad4e053c955307ab1);\n",
       "        \n",
       "    \n",
       "        var popup_10940fb771e851d1f2a7d234bdd8adc2 = L.popup({&quot;maxWidth&quot;: &quot;100%&quot;});\n",
       "\n",
       "        \n",
       "            var html_a0b2f350092bd169fc60e7d170f47412 = $(`&lt;div id=&quot;html_a0b2f350092bd169fc60e7d170f47412&quot; style=&quot;width: 100.0%; height: 100.0%;&quot;&gt;     &lt;b&gt;Royal Oak Court&lt;/b&gt;&lt;br&gt;     Beds: 2&lt;br&gt;     WC: 1&lt;br&gt;     Garden: 1&lt;br&gt;     Area (sqft): 670&lt;br&gt;     Price: 550000&lt;br&gt;     Agency: winkworth&lt;br&gt;     Renovation Cost: 10000&lt;br&gt;     Yearly Revenue: 67600&lt;br&gt;     &lt;img src=&#x27;https://picsum.photos/200/300&#x27;, width=&quot;200&quot;&gt;      &lt;/div&gt;`)[0];\n",
       "            popup_10940fb771e851d1f2a7d234bdd8adc2.setContent(html_a0b2f350092bd169fc60e7d170f47412);\n",
       "        \n",
       "\n",
       "        marker_1843578d8397688851624e48ce777a46.bindPopup(popup_10940fb771e851d1f2a7d234bdd8adc2)\n",
       "        ;\n",
       "\n",
       "        \n",
       "    \n",
       "    \n",
       "            var marker_d5efec8c138b52690439f34b2ea166f1 = L.marker(\n",
       "                [51.534229, -0.111311],\n",
       "                {}\n",
       "            ).addTo(marker_cluster_cdbc777210ab7f9ad4e053c955307ab1);\n",
       "        \n",
       "    \n",
       "        var popup_abf7d9b69d16ef23fd75be2f645358b1 = L.popup({&quot;maxWidth&quot;: &quot;100%&quot;});\n",
       "\n",
       "        \n",
       "            var html_2dc33e11b71def18f999cd30c12f882a = $(`&lt;div id=&quot;html_2dc33e11b71def18f999cd30c12f882a&quot; style=&quot;width: 100.0%; height: 100.0%;&quot;&gt;     &lt;b&gt;Maygood Street&lt;/b&gt;&lt;br&gt;     Beds: 2&lt;br&gt;     WC: 1&lt;br&gt;     Garden: 0&lt;br&gt;     Area (sqft): 506&lt;br&gt;     Price: 450000&lt;br&gt;     Agency: winkworth&lt;br&gt;     Renovation Cost: 25000&lt;br&gt;     Yearly Revenue: 69900&lt;br&gt;     &lt;img src=&#x27;https://picsum.photos/200/300&#x27;, width=&quot;200&quot;&gt;      &lt;/div&gt;`)[0];\n",
       "            popup_abf7d9b69d16ef23fd75be2f645358b1.setContent(html_2dc33e11b71def18f999cd30c12f882a);\n",
       "        \n",
       "\n",
       "        marker_d5efec8c138b52690439f34b2ea166f1.bindPopup(popup_abf7d9b69d16ef23fd75be2f645358b1)\n",
       "        ;\n",
       "\n",
       "        \n",
       "    \n",
       "&lt;/script&gt;\" style=\"position:absolute;width:100%;height:100%;left:0;top:0;border:none !important;\" allowfullscreen webkitallowfullscreen mozallowfullscreen></iframe></div></div>"
      ],
      "text/plain": [
       "<folium.folium.Map at 0x14fa00be0>"
      ]
     },
     "execution_count": 25,
     "metadata": {},
     "output_type": "execute_result"
    }
   ],
   "source": [
    "# Create a base map centered around a specific location\n",
    "map_center = [df['lat'].mean(), df['lon'].mean()]  # Center the map based on the mean latitude and longitude\n",
    "m = folium.Map(location=map_center, zoom_start=11.5)\n",
    "\n",
    "# Create a MarkerCluster layer for better performance with large datasets\n",
    "marker_cluster = MarkerCluster().add_to(m)\n",
    "\n",
    "# Add markers for each property\n",
    "for index, row in df.iterrows():\n",
    "    # Construct the HTML content for the popup, including an image tag for each property\n",
    "    popup_content = f\"\"\"\n",
    "    <b>{row['name']}</b><br>\n",
    "    Beds: {row['beds']}<br>\n",
    "    WC: {row['wc']}<br>\n",
    "    Garden: {row['garden']}<br>\n",
    "    Area (sqft): {row['area_sft']}<br>\n",
    "    Price: {row['price']}<br>\n",
    "    Agency: {row['agency']}<br>\n",
    "    Renovation Cost: {row['reno_cost']}<br>\n",
    "    Yearly Revenue: {row['yearly_rev']}<br>\n",
    "    <img src='https://picsum.photos/200/300', width=\"200\"> \n",
    "    \"\"\"\n",
    "\n",
    "    # Create the marker with the customized popup content\n",
    "    folium.Marker(\n",
    "        location=[row['lat'], row['lon']],\n",
    "        popup=popup_content,\n",
    "    ).add_to(marker_cluster)\n",
    "\n",
    "# Display the map\n",
    "m.save('index.html')  # Save the map as an HTML file\n",
    "m\n"
   ]
  },
  {
   "cell_type": "markdown",
   "metadata": {},
   "source": [
    "### Append crime data"
   ]
  },
  {
   "cell_type": "code",
   "execution_count": 26,
   "metadata": {},
   "outputs": [],
   "source": [
    "# combine list into tuples\n",
    "combined_coords = list(zip(lat_list,lon_list))"
   ]
  },
  {
   "cell_type": "code",
   "execution_count": 27,
   "metadata": {},
   "outputs": [
    {
     "name": "stdout",
     "output_type": "stream",
     "text": [
      "processed burglary count...\n",
      "processed burglary count...\n",
      "processed burglary count...\n",
      "processed burglary count...\n",
      "processed burglary count...\n",
      "processed burglary count...\n",
      "processed burglary count...\n",
      "processed burglary count...\n"
     ]
    }
   ],
   "source": [
    "crime_list = []\n",
    "for location in combined_coords:\n",
    "    lat = location[0]\n",
    "    lon = location[1]\n",
    "    url = f'https://data.police.uk/api/crimes-street/burglary?lat={lat}&lng={lon}'  # Corrected URL format\n",
    "    responses = requests.get(url).json()\n",
    "    crime_list.append(len(responses))  # Loop through unique names\n",
    "    print('processed burglary count...')\n",
    "\n",
    "df['burglary_count'] = crime_list"
   ]
  },
  {
   "cell_type": "code",
   "execution_count": 29,
   "metadata": {},
   "outputs": [
    {
     "data": {
      "text/plain": [
       "0    10\n",
       "1     0\n",
       "2     0\n",
       "3     0\n",
       "4     0\n",
       "5     0\n",
       "6     5\n",
       "7     0\n",
       "Name: burglary_count, dtype: int64"
      ]
     },
     "execution_count": 29,
     "metadata": {},
     "output_type": "execute_result"
    }
   ],
   "source": [
    "df['burglary_count']"
   ]
  },
  {
   "cell_type": "code",
   "execution_count": 30,
   "metadata": {},
   "outputs": [
    {
     "data": {
      "application/vnd.plotly.v1+json": {
       "config": {
        "plotlyServerURL": "https://plot.ly"
       },
       "data": [
        {
         "hovertemplate": "Variable=price<br>x=%{x}<br>Standardized Value=%{y}<extra></extra>",
         "legendgroup": "price",
         "line": {
          "color": "#636efa",
          "dash": "solid"
         },
         "marker": {
          "symbol": "circle"
         },
         "mode": "lines",
         "name": "price",
         "orientation": "v",
         "showlegend": true,
         "type": "scatter",
         "x": [
          "Purbrook Estate",
          "Congreve Street",
          "Baltic Place",
          "Sutherland Avenue",
          "Lancaster West",
          "London Terrace Hoxton",
          "Royal Oak Court",
          "Maygood Street"
         ],
         "xaxis": "x",
         "y": [
          -0.8890008890013334,
          0.3810003810005715,
          1.016001016001524,
          1.016001016001524,
          -0.254000254000381,
          -0.762000762001143,
          1.016001016001524,
          -1.524001524002286
         ],
         "yaxis": "y"
        },
        {
         "hovertemplate": "Variable=reno_cost<br>x=%{x}<br>Standardized Value=%{y}<extra></extra>",
         "legendgroup": "reno_cost",
         "line": {
          "color": "#EF553B",
          "dash": "solid"
         },
         "marker": {
          "symbol": "circle"
         },
         "mode": "lines",
         "name": "reno_cost",
         "orientation": "v",
         "showlegend": true,
         "type": "scatter",
         "x": [
          "Purbrook Estate",
          "Congreve Street",
          "Baltic Place",
          "Sutherland Avenue",
          "Lancaster West",
          "London Terrace Hoxton",
          "Royal Oak Court",
          "Maygood Street"
         ],
         "xaxis": "x",
         "y": [
          1.367217797081749,
          0.7386119133660023,
          -1.1472057377812377,
          -0.518599854065491,
          -0.7700422075517896,
          -0.518599854065491,
          -0.518599854065491,
          1.367217797081749
         ],
         "yaxis": "y"
        },
        {
         "hovertemplate": "Variable=yearly_rev<br>x=%{x}<br>Standardized Value=%{y}<extra></extra>",
         "legendgroup": "yearly_rev",
         "line": {
          "color": "#00cc96",
          "dash": "solid"
         },
         "marker": {
          "symbol": "circle"
         },
         "mode": "lines",
         "name": "yearly_rev",
         "orientation": "v",
         "showlegend": true,
         "type": "scatter",
         "x": [
          "Purbrook Estate",
          "Congreve Street",
          "Baltic Place",
          "Sutherland Avenue",
          "Lancaster West",
          "London Terrace Hoxton",
          "Royal Oak Court",
          "Maygood Street"
         ],
         "xaxis": "x",
         "y": [
          1.4284629343417568,
          -0.5867180727033503,
          -1.4378504235050105,
          0.014081233744880408,
          0.664947149063797,
          -1.2000340313692524,
          0.4146141047103675,
          0.7024971057168115
         ],
         "yaxis": "y"
        },
        {
         "hovertemplate": "Variable=burglary_count<br>x=%{x}<br>Standardized Value=%{y}<extra></extra>",
         "legendgroup": "burglary_count",
         "line": {
          "color": "#ab63fa",
          "dash": "solid"
         },
         "marker": {
          "symbol": "circle"
         },
         "mode": "lines",
         "name": "burglary_count",
         "orientation": "v",
         "showlegend": true,
         "type": "scatter",
         "x": [
          "Purbrook Estate",
          "Congreve Street",
          "Baltic Place",
          "Sutherland Avenue",
          "Lancaster West",
          "London Terrace Hoxton",
          "Royal Oak Court",
          "Maygood Street"
         ],
         "xaxis": "x",
         "y": [
          2.184069891354803,
          -0.5040161287741853,
          -0.5040161287741853,
          -0.5040161287741853,
          -0.5040161287741853,
          -0.5040161287741853,
          0.8400268812903088,
          -0.5040161287741853
         ],
         "yaxis": "y"
        }
       ],
       "layout": {
        "legend": {
         "title": {
          "text": "Variable"
         },
         "tracegroupgap": 0
        },
        "template": {
         "data": {
          "bar": [
           {
            "error_x": {
             "color": "#f2f5fa"
            },
            "error_y": {
             "color": "#f2f5fa"
            },
            "marker": {
             "line": {
              "color": "rgb(17,17,17)",
              "width": 0.5
             },
             "pattern": {
              "fillmode": "overlay",
              "size": 10,
              "solidity": 0.2
             }
            },
            "type": "bar"
           }
          ],
          "barpolar": [
           {
            "marker": {
             "line": {
              "color": "rgb(17,17,17)",
              "width": 0.5
             },
             "pattern": {
              "fillmode": "overlay",
              "size": 10,
              "solidity": 0.2
             }
            },
            "type": "barpolar"
           }
          ],
          "carpet": [
           {
            "aaxis": {
             "endlinecolor": "#A2B1C6",
             "gridcolor": "#506784",
             "linecolor": "#506784",
             "minorgridcolor": "#506784",
             "startlinecolor": "#A2B1C6"
            },
            "baxis": {
             "endlinecolor": "#A2B1C6",
             "gridcolor": "#506784",
             "linecolor": "#506784",
             "minorgridcolor": "#506784",
             "startlinecolor": "#A2B1C6"
            },
            "type": "carpet"
           }
          ],
          "choropleth": [
           {
            "colorbar": {
             "outlinewidth": 0,
             "ticks": ""
            },
            "type": "choropleth"
           }
          ],
          "contour": [
           {
            "colorbar": {
             "outlinewidth": 0,
             "ticks": ""
            },
            "colorscale": [
             [
              0,
              "#0d0887"
             ],
             [
              0.1111111111111111,
              "#46039f"
             ],
             [
              0.2222222222222222,
              "#7201a8"
             ],
             [
              0.3333333333333333,
              "#9c179e"
             ],
             [
              0.4444444444444444,
              "#bd3786"
             ],
             [
              0.5555555555555556,
              "#d8576b"
             ],
             [
              0.6666666666666666,
              "#ed7953"
             ],
             [
              0.7777777777777778,
              "#fb9f3a"
             ],
             [
              0.8888888888888888,
              "#fdca26"
             ],
             [
              1,
              "#f0f921"
             ]
            ],
            "type": "contour"
           }
          ],
          "contourcarpet": [
           {
            "colorbar": {
             "outlinewidth": 0,
             "ticks": ""
            },
            "type": "contourcarpet"
           }
          ],
          "heatmap": [
           {
            "colorbar": {
             "outlinewidth": 0,
             "ticks": ""
            },
            "colorscale": [
             [
              0,
              "#0d0887"
             ],
             [
              0.1111111111111111,
              "#46039f"
             ],
             [
              0.2222222222222222,
              "#7201a8"
             ],
             [
              0.3333333333333333,
              "#9c179e"
             ],
             [
              0.4444444444444444,
              "#bd3786"
             ],
             [
              0.5555555555555556,
              "#d8576b"
             ],
             [
              0.6666666666666666,
              "#ed7953"
             ],
             [
              0.7777777777777778,
              "#fb9f3a"
             ],
             [
              0.8888888888888888,
              "#fdca26"
             ],
             [
              1,
              "#f0f921"
             ]
            ],
            "type": "heatmap"
           }
          ],
          "heatmapgl": [
           {
            "colorbar": {
             "outlinewidth": 0,
             "ticks": ""
            },
            "colorscale": [
             [
              0,
              "#0d0887"
             ],
             [
              0.1111111111111111,
              "#46039f"
             ],
             [
              0.2222222222222222,
              "#7201a8"
             ],
             [
              0.3333333333333333,
              "#9c179e"
             ],
             [
              0.4444444444444444,
              "#bd3786"
             ],
             [
              0.5555555555555556,
              "#d8576b"
             ],
             [
              0.6666666666666666,
              "#ed7953"
             ],
             [
              0.7777777777777778,
              "#fb9f3a"
             ],
             [
              0.8888888888888888,
              "#fdca26"
             ],
             [
              1,
              "#f0f921"
             ]
            ],
            "type": "heatmapgl"
           }
          ],
          "histogram": [
           {
            "marker": {
             "pattern": {
              "fillmode": "overlay",
              "size": 10,
              "solidity": 0.2
             }
            },
            "type": "histogram"
           }
          ],
          "histogram2d": [
           {
            "colorbar": {
             "outlinewidth": 0,
             "ticks": ""
            },
            "colorscale": [
             [
              0,
              "#0d0887"
             ],
             [
              0.1111111111111111,
              "#46039f"
             ],
             [
              0.2222222222222222,
              "#7201a8"
             ],
             [
              0.3333333333333333,
              "#9c179e"
             ],
             [
              0.4444444444444444,
              "#bd3786"
             ],
             [
              0.5555555555555556,
              "#d8576b"
             ],
             [
              0.6666666666666666,
              "#ed7953"
             ],
             [
              0.7777777777777778,
              "#fb9f3a"
             ],
             [
              0.8888888888888888,
              "#fdca26"
             ],
             [
              1,
              "#f0f921"
             ]
            ],
            "type": "histogram2d"
           }
          ],
          "histogram2dcontour": [
           {
            "colorbar": {
             "outlinewidth": 0,
             "ticks": ""
            },
            "colorscale": [
             [
              0,
              "#0d0887"
             ],
             [
              0.1111111111111111,
              "#46039f"
             ],
             [
              0.2222222222222222,
              "#7201a8"
             ],
             [
              0.3333333333333333,
              "#9c179e"
             ],
             [
              0.4444444444444444,
              "#bd3786"
             ],
             [
              0.5555555555555556,
              "#d8576b"
             ],
             [
              0.6666666666666666,
              "#ed7953"
             ],
             [
              0.7777777777777778,
              "#fb9f3a"
             ],
             [
              0.8888888888888888,
              "#fdca26"
             ],
             [
              1,
              "#f0f921"
             ]
            ],
            "type": "histogram2dcontour"
           }
          ],
          "mesh3d": [
           {
            "colorbar": {
             "outlinewidth": 0,
             "ticks": ""
            },
            "type": "mesh3d"
           }
          ],
          "parcoords": [
           {
            "line": {
             "colorbar": {
              "outlinewidth": 0,
              "ticks": ""
             }
            },
            "type": "parcoords"
           }
          ],
          "pie": [
           {
            "automargin": true,
            "type": "pie"
           }
          ],
          "scatter": [
           {
            "marker": {
             "line": {
              "color": "#283442"
             }
            },
            "type": "scatter"
           }
          ],
          "scatter3d": [
           {
            "line": {
             "colorbar": {
              "outlinewidth": 0,
              "ticks": ""
             }
            },
            "marker": {
             "colorbar": {
              "outlinewidth": 0,
              "ticks": ""
             }
            },
            "type": "scatter3d"
           }
          ],
          "scattercarpet": [
           {
            "marker": {
             "colorbar": {
              "outlinewidth": 0,
              "ticks": ""
             }
            },
            "type": "scattercarpet"
           }
          ],
          "scattergeo": [
           {
            "marker": {
             "colorbar": {
              "outlinewidth": 0,
              "ticks": ""
             }
            },
            "type": "scattergeo"
           }
          ],
          "scattergl": [
           {
            "marker": {
             "line": {
              "color": "#283442"
             }
            },
            "type": "scattergl"
           }
          ],
          "scattermapbox": [
           {
            "marker": {
             "colorbar": {
              "outlinewidth": 0,
              "ticks": ""
             }
            },
            "type": "scattermapbox"
           }
          ],
          "scatterpolar": [
           {
            "marker": {
             "colorbar": {
              "outlinewidth": 0,
              "ticks": ""
             }
            },
            "type": "scatterpolar"
           }
          ],
          "scatterpolargl": [
           {
            "marker": {
             "colorbar": {
              "outlinewidth": 0,
              "ticks": ""
             }
            },
            "type": "scatterpolargl"
           }
          ],
          "scatterternary": [
           {
            "marker": {
             "colorbar": {
              "outlinewidth": 0,
              "ticks": ""
             }
            },
            "type": "scatterternary"
           }
          ],
          "surface": [
           {
            "colorbar": {
             "outlinewidth": 0,
             "ticks": ""
            },
            "colorscale": [
             [
              0,
              "#0d0887"
             ],
             [
              0.1111111111111111,
              "#46039f"
             ],
             [
              0.2222222222222222,
              "#7201a8"
             ],
             [
              0.3333333333333333,
              "#9c179e"
             ],
             [
              0.4444444444444444,
              "#bd3786"
             ],
             [
              0.5555555555555556,
              "#d8576b"
             ],
             [
              0.6666666666666666,
              "#ed7953"
             ],
             [
              0.7777777777777778,
              "#fb9f3a"
             ],
             [
              0.8888888888888888,
              "#fdca26"
             ],
             [
              1,
              "#f0f921"
             ]
            ],
            "type": "surface"
           }
          ],
          "table": [
           {
            "cells": {
             "fill": {
              "color": "#506784"
             },
             "line": {
              "color": "rgb(17,17,17)"
             }
            },
            "header": {
             "fill": {
              "color": "#2a3f5f"
             },
             "line": {
              "color": "rgb(17,17,17)"
             }
            },
            "type": "table"
           }
          ]
         },
         "layout": {
          "annotationdefaults": {
           "arrowcolor": "#f2f5fa",
           "arrowhead": 0,
           "arrowwidth": 1
          },
          "autotypenumbers": "strict",
          "coloraxis": {
           "colorbar": {
            "outlinewidth": 0,
            "ticks": ""
           }
          },
          "colorscale": {
           "diverging": [
            [
             0,
             "#8e0152"
            ],
            [
             0.1,
             "#c51b7d"
            ],
            [
             0.2,
             "#de77ae"
            ],
            [
             0.3,
             "#f1b6da"
            ],
            [
             0.4,
             "#fde0ef"
            ],
            [
             0.5,
             "#f7f7f7"
            ],
            [
             0.6,
             "#e6f5d0"
            ],
            [
             0.7,
             "#b8e186"
            ],
            [
             0.8,
             "#7fbc41"
            ],
            [
             0.9,
             "#4d9221"
            ],
            [
             1,
             "#276419"
            ]
           ],
           "sequential": [
            [
             0,
             "#0d0887"
            ],
            [
             0.1111111111111111,
             "#46039f"
            ],
            [
             0.2222222222222222,
             "#7201a8"
            ],
            [
             0.3333333333333333,
             "#9c179e"
            ],
            [
             0.4444444444444444,
             "#bd3786"
            ],
            [
             0.5555555555555556,
             "#d8576b"
            ],
            [
             0.6666666666666666,
             "#ed7953"
            ],
            [
             0.7777777777777778,
             "#fb9f3a"
            ],
            [
             0.8888888888888888,
             "#fdca26"
            ],
            [
             1,
             "#f0f921"
            ]
           ],
           "sequentialminus": [
            [
             0,
             "#0d0887"
            ],
            [
             0.1111111111111111,
             "#46039f"
            ],
            [
             0.2222222222222222,
             "#7201a8"
            ],
            [
             0.3333333333333333,
             "#9c179e"
            ],
            [
             0.4444444444444444,
             "#bd3786"
            ],
            [
             0.5555555555555556,
             "#d8576b"
            ],
            [
             0.6666666666666666,
             "#ed7953"
            ],
            [
             0.7777777777777778,
             "#fb9f3a"
            ],
            [
             0.8888888888888888,
             "#fdca26"
            ],
            [
             1,
             "#f0f921"
            ]
           ]
          },
          "colorway": [
           "#636efa",
           "#EF553B",
           "#00cc96",
           "#ab63fa",
           "#FFA15A",
           "#19d3f3",
           "#FF6692",
           "#B6E880",
           "#FF97FF",
           "#FECB52"
          ],
          "font": {
           "color": "#f2f5fa"
          },
          "geo": {
           "bgcolor": "rgb(17,17,17)",
           "lakecolor": "rgb(17,17,17)",
           "landcolor": "rgb(17,17,17)",
           "showlakes": true,
           "showland": true,
           "subunitcolor": "#506784"
          },
          "hoverlabel": {
           "align": "left"
          },
          "hovermode": "closest",
          "mapbox": {
           "style": "dark"
          },
          "paper_bgcolor": "rgb(17,17,17)",
          "plot_bgcolor": "rgb(17,17,17)",
          "polar": {
           "angularaxis": {
            "gridcolor": "#506784",
            "linecolor": "#506784",
            "ticks": ""
           },
           "bgcolor": "rgb(17,17,17)",
           "radialaxis": {
            "gridcolor": "#506784",
            "linecolor": "#506784",
            "ticks": ""
           }
          },
          "scene": {
           "xaxis": {
            "backgroundcolor": "rgb(17,17,17)",
            "gridcolor": "#506784",
            "gridwidth": 2,
            "linecolor": "#506784",
            "showbackground": true,
            "ticks": "",
            "zerolinecolor": "#C8D4E3"
           },
           "yaxis": {
            "backgroundcolor": "rgb(17,17,17)",
            "gridcolor": "#506784",
            "gridwidth": 2,
            "linecolor": "#506784",
            "showbackground": true,
            "ticks": "",
            "zerolinecolor": "#C8D4E3"
           },
           "zaxis": {
            "backgroundcolor": "rgb(17,17,17)",
            "gridcolor": "#506784",
            "gridwidth": 2,
            "linecolor": "#506784",
            "showbackground": true,
            "ticks": "",
            "zerolinecolor": "#C8D4E3"
           }
          },
          "shapedefaults": {
           "line": {
            "color": "#f2f5fa"
           }
          },
          "sliderdefaults": {
           "bgcolor": "#C8D4E3",
           "bordercolor": "rgb(17,17,17)",
           "borderwidth": 1,
           "tickwidth": 0
          },
          "ternary": {
           "aaxis": {
            "gridcolor": "#506784",
            "linecolor": "#506784",
            "ticks": ""
           },
           "baxis": {
            "gridcolor": "#506784",
            "linecolor": "#506784",
            "ticks": ""
           },
           "bgcolor": "rgb(17,17,17)",
           "caxis": {
            "gridcolor": "#506784",
            "linecolor": "#506784",
            "ticks": ""
           }
          },
          "title": {
           "x": 0.05
          },
          "updatemenudefaults": {
           "bgcolor": "#506784",
           "borderwidth": 0
          },
          "xaxis": {
           "automargin": true,
           "gridcolor": "#283442",
           "linecolor": "#506784",
           "ticks": "",
           "title": {
            "standoff": 15
           },
           "zerolinecolor": "#283442",
           "zerolinewidth": 2
          },
          "yaxis": {
           "automargin": true,
           "gridcolor": "#283442",
           "linecolor": "#506784",
           "ticks": "",
           "title": {
            "standoff": 15
           },
           "zerolinecolor": "#283442",
           "zerolinewidth": 2
          }
         }
        },
        "title": {
         "text": "Standardized Numeric Columns Over Time"
        },
        "xaxis": {
         "anchor": "y",
         "domain": [
          0,
          1
         ],
         "title": {
          "text": "x"
         }
        },
        "yaxis": {
         "anchor": "x",
         "domain": [
          0,
          1
         ],
         "title": {
          "text": "Standardized Value"
         }
        }
       }
      }
     },
     "metadata": {},
     "output_type": "display_data"
    }
   ],
   "source": [
    "def property_plot():    # Select numeric columns only\n",
    "    numeric_df = df.select_dtypes(include=['float64', 'int64'])\n",
    "\n",
    "    # Standardize the data\n",
    "    df_standardized = (numeric_df - numeric_df.mean()) / numeric_df.std()\n",
    "    df_standardized = df_standardized[['price','reno_cost','yearly_rev', 'burglary_count']]\n",
    "\n",
    "    # Plot the standardized data\n",
    "    fig = px.line(df_standardized, x=df.name, y=df_standardized.columns,\n",
    "                labels={'value': 'Standardized Value', 'variable': 'Variable', 'index': 'Date'},\n",
    "                title=\"Standardized Numeric Columns Over Time\")\n",
    "\n",
    "    return fig.show()\n",
    "\n",
    "property_plot()"
   ]
  }
 ],
 "metadata": {
  "kernelspec": {
   "display_name": "lewagon",
   "language": "python",
   "name": "python3"
  },
  "language_info": {
   "codemirror_mode": {
    "name": "ipython",
    "version": 3
   },
   "file_extension": ".py",
   "mimetype": "text/x-python",
   "name": "python",
   "nbconvert_exporter": "python",
   "pygments_lexer": "ipython3",
   "version": "3.10.6"
  }
 },
 "nbformat": 4,
 "nbformat_minor": 2
}
